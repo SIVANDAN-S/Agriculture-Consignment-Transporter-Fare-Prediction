{
 "cells": [
  {
   "cell_type": "code",
   "execution_count": 1,
   "metadata": {},
   "outputs": [],
   "source": [
    "import numpy as np\n",
    "import pandas as pd\n",
    "import matplotlib.pyplot as plt\n",
    "import seaborn as sns\n",
    "import warnings \n",
    "\n",
    "warnings.filterwarnings('ignore') \n",
    "sns.set()"
   ]
  },
  {
   "cell_type": "markdown",
   "metadata": {},
   "source": [
    "## Importing dataset\n",
    "    1.Since data is in form of excel file we have to use pandas read_excel to load the data\n",
    "    2.After loading it is important to check the complete information of data as it can indication \n",
    "    many of the hidden infomation such as null values in a column or a row\n",
    "    3.Check whether any null values are there or not. if it is present then following can be done,\n",
    "        a.Imputing data using Imputation method in sklearn\n",
    "        b.Filling NaN values with mean, median and mode using fillna() method\n",
    "    4.Describe data --> which can give statistical analysis"
   ]
  },
  {
   "cell_type": "code",
   "execution_count": 2,
   "metadata": {},
   "outputs": [
    {
     "data": {
      "text/html": [
       "<div>\n",
       "<style scoped>\n",
       "    .dataframe tbody tr th:only-of-type {\n",
       "        vertical-align: middle;\n",
       "    }\n",
       "\n",
       "    .dataframe tbody tr th {\n",
       "        vertical-align: top;\n",
       "    }\n",
       "\n",
       "    .dataframe thead th {\n",
       "        text-align: right;\n",
       "    }\n",
       "</style>\n",
       "<table border=\"1\" class=\"dataframe\">\n",
       "  <thead>\n",
       "    <tr style=\"text-align: right;\">\n",
       "      <th></th>\n",
       "      <th>S.No</th>\n",
       "      <th>Pickup Datetime</th>\n",
       "      <th>Pickup Latitude\\t</th>\n",
       "      <th>Pickup Longitude</th>\n",
       "      <th>Village Name</th>\n",
       "      <th>Dropoff Latitude\\t</th>\n",
       "      <th>Dropoff Longitude</th>\n",
       "      <th>Market Name</th>\n",
       "      <th>Kilometer</th>\n",
       "      <th>Weight</th>\n",
       "      <th>Vehicle Type</th>\n",
       "      <th>Fare Amount</th>\n",
       "    </tr>\n",
       "  </thead>\n",
       "  <tbody>\n",
       "    <tr>\n",
       "      <th>0</th>\n",
       "      <td>1</td>\n",
       "      <td>2015-01-27 13:08:24 IST</td>\n",
       "      <td>12.226787</td>\n",
       "      <td>79.516198</td>\n",
       "      <td>Maniyampattu, Tamil Nadu</td>\n",
       "      <td>11.954979</td>\n",
       "      <td>79.419145</td>\n",
       "      <td>Kanai</td>\n",
       "      <td>55</td>\n",
       "      <td>2500 kg</td>\n",
       "      <td>Tata 407</td>\n",
       "      <td>3575</td>\n",
       "    </tr>\n",
       "    <tr>\n",
       "      <th>1</th>\n",
       "      <td>2</td>\n",
       "      <td>2015-01-27 13:08:24 IST</td>\n",
       "      <td>11.963588</td>\n",
       "      <td>79.440631</td>\n",
       "      <td>Aariyur, Tamil Nadu</td>\n",
       "      <td>11.954979</td>\n",
       "      <td>79.419145</td>\n",
       "      <td>Kanai</td>\n",
       "      <td>7</td>\n",
       "      <td>500 kg</td>\n",
       "      <td>Tata ape</td>\n",
       "      <td>266</td>\n",
       "    </tr>\n",
       "    <tr>\n",
       "      <th>2</th>\n",
       "      <td>3</td>\n",
       "      <td>2011-10-08 11:53:44 IST</td>\n",
       "      <td>11.983094</td>\n",
       "      <td>79.418524</td>\n",
       "      <td>Agaram Chithamoor</td>\n",
       "      <td>11.954979</td>\n",
       "      <td>79.419145</td>\n",
       "      <td>Kanai</td>\n",
       "      <td>5</td>\n",
       "      <td>438 kg</td>\n",
       "      <td>Tata ape</td>\n",
       "      <td>190</td>\n",
       "    </tr>\n",
       "    <tr>\n",
       "      <th>3</th>\n",
       "      <td>4</td>\n",
       "      <td>2012-12-01 21:12:12 IST</td>\n",
       "      <td>12.014724</td>\n",
       "      <td>79.383495</td>\n",
       "      <td>Ariyalur Thirukkai</td>\n",
       "      <td>11.954979</td>\n",
       "      <td>79.419145</td>\n",
       "      <td>Kanai</td>\n",
       "      <td>11</td>\n",
       "      <td>1500 kg</td>\n",
       "      <td>Tata 407</td>\n",
       "      <td>715</td>\n",
       "    </tr>\n",
       "    <tr>\n",
       "      <th>4</th>\n",
       "      <td>5</td>\n",
       "      <td>2012-12-01 21:12:12 IST</td>\n",
       "      <td>11.936798</td>\n",
       "      <td>79.369585</td>\n",
       "      <td>Kalpattu</td>\n",
       "      <td>11.954979</td>\n",
       "      <td>79.419145</td>\n",
       "      <td>Kanai</td>\n",
       "      <td>8</td>\n",
       "      <td>2500 kg</td>\n",
       "      <td>Tata 407</td>\n",
       "      <td>520</td>\n",
       "    </tr>\n",
       "  </tbody>\n",
       "</table>\n",
       "</div>"
      ],
      "text/plain": [
       "   S.No          Pickup Datetime  Pickup Latitude\\t  Pickup Longitude  \\\n",
       "0     1  2015-01-27 13:08:24 IST          12.226787         79.516198   \n",
       "1     2  2015-01-27 13:08:24 IST          11.963588         79.440631   \n",
       "2     3  2011-10-08 11:53:44 IST          11.983094         79.418524   \n",
       "3     4  2012-12-01 21:12:12 IST          12.014724         79.383495   \n",
       "4     5  2012-12-01 21:12:12 IST          11.936798         79.369585   \n",
       "\n",
       "               Village Name  Dropoff Latitude\\t  Dropoff Longitude  \\\n",
       "0  Maniyampattu, Tamil Nadu           11.954979          79.419145   \n",
       "1       Aariyur, Tamil Nadu           11.954979          79.419145   \n",
       "2         Agaram Chithamoor           11.954979          79.419145   \n",
       "3        Ariyalur Thirukkai           11.954979          79.419145   \n",
       "4                  Kalpattu           11.954979          79.419145   \n",
       "\n",
       "  Market Name  Kilometer   Weight Vehicle Type  Fare Amount  \n",
       "0       Kanai         55  2500 kg    Tata 407          3575  \n",
       "1       Kanai          7   500 kg     Tata ape          266  \n",
       "2       Kanai          5   438 kg     Tata ape          190  \n",
       "3       Kanai         11  1500 kg    Tata 407           715  \n",
       "4       Kanai          8  2500 kg    Tata 407           520  "
      ]
     },
     "execution_count": 2,
     "metadata": {},
     "output_type": "execute_result"
    }
   ],
   "source": [
    "train_data = pd.read_excel('D:\\STUDIES\\DATASETS\\Agriculture Consignment Vehicle Fare Prediction\\Agriculture Consignment dataset(ACP).xlsx')\n",
    "train_data.head()"
   ]
  },
  {
   "cell_type": "code",
   "execution_count": 3,
   "metadata": {},
   "outputs": [
    {
     "name": "stdout",
     "output_type": "stream",
     "text": [
      "<class 'pandas.core.frame.DataFrame'>\n",
      "RangeIndex: 200 entries, 0 to 199\n",
      "Data columns (total 12 columns):\n",
      " #   Column             Non-Null Count  Dtype  \n",
      "---  ------             --------------  -----  \n",
      " 0   S.No               200 non-null    int64  \n",
      " 1   Pickup Datetime    200 non-null    object \n",
      " 2   Pickup Latitude\t   200 non-null    float64\n",
      " 3   Pickup Longitude   200 non-null    float64\n",
      " 4   Village Name       200 non-null    object \n",
      " 5   Dropoff Latitude\t  200 non-null    float64\n",
      " 6   Dropoff Longitude  200 non-null    float64\n",
      " 7   Market Name        200 non-null    object \n",
      " 8   Kilometer          200 non-null    int64  \n",
      " 9   Weight             200 non-null    object \n",
      " 10  Vehicle Type       200 non-null    object \n",
      " 11  Fare Amount        200 non-null    int64  \n",
      "dtypes: float64(4), int64(3), object(5)\n",
      "memory usage: 18.9+ KB\n"
     ]
    }
   ],
   "source": [
    "train_data.info()"
   ]
  },
  {
   "cell_type": "code",
   "execution_count": 4,
   "metadata": {},
   "outputs": [
    {
     "data": {
      "text/plain": [
       "S.No                  0\n",
       "Pickup Datetime       0\n",
       "Pickup Latitude\\t     0\n",
       "Pickup Longitude      0\n",
       "Village Name          0\n",
       "Dropoff Latitude\\t    0\n",
       "Dropoff Longitude     0\n",
       "Market Name           0\n",
       "Kilometer             0\n",
       "Weight                0\n",
       "Vehicle Type          0\n",
       "Fare Amount           0\n",
       "dtype: int64"
      ]
     },
     "execution_count": 4,
     "metadata": {},
     "output_type": "execute_result"
    }
   ],
   "source": [
    "train_data.isnull().sum()"
   ]
  },
  {
   "cell_type": "markdown",
   "metadata": {},
   "source": [
    "EDA\n",
    "    \n",
    "    From description we can see that Date_of_Journey is a object data type,\n",
    "    Therefore, we have to convert this datatype into timestamp so as to use this column properly for prediction\n",
    "\n",
    "    For this we require pandas to_datetime to convert object data type to datetime dtype.\n",
    "\n",
    "    .dt.day method will extract only day of that date\n",
    "    .dt.month method will extract only month of that date"
   ]
  },
  {
   "cell_type": "code",
   "execution_count": 5,
   "metadata": {},
   "outputs": [],
   "source": [
    "import datetime"
   ]
  },
  {
   "cell_type": "code",
   "execution_count": 6,
   "metadata": {},
   "outputs": [
    {
     "data": {
      "text/plain": [
       "0     2015-01-27 13:08:24\n",
       "1     2015-01-27 13:08:24\n",
       "2     2011-10-08 11:53:44\n",
       "3     2012-12-01 21:12:12\n",
       "4     2012-12-01 21:12:12\n",
       "              ...        \n",
       "195   2011-05-21 13:16:20\n",
       "196   2011-11-25 16:36:24\n",
       "197   2011-11-25 16:36:24\n",
       "198   2015-01-31 20:54:04\n",
       "199   2010-11-01 23:31:28\n",
       "Name: Pickup Datetime, Length: 200, dtype: datetime64[ns]"
      ]
     },
     "execution_count": 6,
     "metadata": {},
     "output_type": "execute_result"
    }
   ],
   "source": [
    "pd.to_datetime(train_data['Pickup Datetime'])"
   ]
  },
  {
   "cell_type": "code",
   "execution_count": 7,
   "metadata": {},
   "outputs": [
    {
     "name": "stdout",
     "output_type": "stream",
     "text": [
      "0     2015-01-27 09:08:24\n",
      "1     2015-01-27 09:08:24\n",
      "2     2011-10-08 07:53:44\n",
      "3     2012-12-01 17:12:12\n",
      "4     2012-12-01 17:12:12\n",
      "              ...        \n",
      "195   2011-05-21 09:16:20\n",
      "196   2011-11-25 12:36:24\n",
      "197   2011-11-25 12:36:24\n",
      "198   2015-01-31 16:54:04\n",
      "199   2010-11-01 19:31:28\n",
      "Name: Pickup Datetime, Length: 200, dtype: datetime64[ns]\n"
     ]
    }
   ],
   "source": [
    "train_data['Pickup Datetime'] = pd.to_datetime(train_data['Pickup Datetime'])-datetime.timedelta(hours=4)\n",
    "print(train_data['Pickup Datetime'])"
   ]
  },
  {
   "cell_type": "code",
   "execution_count": 8,
   "metadata": {},
   "outputs": [
    {
     "name": "stdout",
     "output_type": "stream",
     "text": [
      "<class 'pandas.core.frame.DataFrame'>\n",
      "RangeIndex: 200 entries, 0 to 199\n",
      "Data columns (total 12 columns):\n",
      " #   Column             Non-Null Count  Dtype         \n",
      "---  ------             --------------  -----         \n",
      " 0   S.No               200 non-null    int64         \n",
      " 1   Pickup Datetime    200 non-null    datetime64[ns]\n",
      " 2   Pickup Latitude\t   200 non-null    float64       \n",
      " 3   Pickup Longitude   200 non-null    float64       \n",
      " 4   Village Name       200 non-null    object        \n",
      " 5   Dropoff Latitude\t  200 non-null    float64       \n",
      " 6   Dropoff Longitude  200 non-null    float64       \n",
      " 7   Market Name        200 non-null    object        \n",
      " 8   Kilometer          200 non-null    int64         \n",
      " 9   Weight             200 non-null    object        \n",
      " 10  Vehicle Type       200 non-null    object        \n",
      " 11  Fare Amount        200 non-null    int64         \n",
      "dtypes: datetime64[ns](1), float64(4), int64(3), object(4)\n",
      "memory usage: 18.9+ KB\n"
     ]
    }
   ],
   "source": [
    "train_data.info()"
   ]
  },
  {
   "cell_type": "code",
   "execution_count": 9,
   "metadata": {},
   "outputs": [
    {
     "data": {
      "text/html": [
       "<div>\n",
       "<style scoped>\n",
       "    .dataframe tbody tr th:only-of-type {\n",
       "        vertical-align: middle;\n",
       "    }\n",
       "\n",
       "    .dataframe tbody tr th {\n",
       "        vertical-align: top;\n",
       "    }\n",
       "\n",
       "    .dataframe thead th {\n",
       "        text-align: right;\n",
       "    }\n",
       "</style>\n",
       "<table border=\"1\" class=\"dataframe\">\n",
       "  <thead>\n",
       "    <tr style=\"text-align: right;\">\n",
       "      <th></th>\n",
       "      <th>S.No</th>\n",
       "      <th>Pickup Datetime</th>\n",
       "      <th>Pickup Latitude\\t</th>\n",
       "      <th>Pickup Longitude</th>\n",
       "      <th>Village Name</th>\n",
       "      <th>Dropoff Latitude\\t</th>\n",
       "      <th>Dropoff Longitude</th>\n",
       "      <th>Market Name</th>\n",
       "      <th>Kilometer</th>\n",
       "      <th>Weight</th>\n",
       "      <th>Vehicle Type</th>\n",
       "      <th>Fare Amount</th>\n",
       "    </tr>\n",
       "  </thead>\n",
       "  <tbody>\n",
       "    <tr>\n",
       "      <th>0</th>\n",
       "      <td>1</td>\n",
       "      <td>2015-01-27 09:08:24</td>\n",
       "      <td>12.226787</td>\n",
       "      <td>79.516198</td>\n",
       "      <td>Maniyampattu, Tamil Nadu</td>\n",
       "      <td>11.954979</td>\n",
       "      <td>79.419145</td>\n",
       "      <td>Kanai</td>\n",
       "      <td>55</td>\n",
       "      <td>2500 kg</td>\n",
       "      <td>Tata 407</td>\n",
       "      <td>3575</td>\n",
       "    </tr>\n",
       "    <tr>\n",
       "      <th>1</th>\n",
       "      <td>2</td>\n",
       "      <td>2015-01-27 09:08:24</td>\n",
       "      <td>11.963588</td>\n",
       "      <td>79.440631</td>\n",
       "      <td>Aariyur, Tamil Nadu</td>\n",
       "      <td>11.954979</td>\n",
       "      <td>79.419145</td>\n",
       "      <td>Kanai</td>\n",
       "      <td>7</td>\n",
       "      <td>500 kg</td>\n",
       "      <td>Tata ape</td>\n",
       "      <td>266</td>\n",
       "    </tr>\n",
       "    <tr>\n",
       "      <th>2</th>\n",
       "      <td>3</td>\n",
       "      <td>2011-10-08 07:53:44</td>\n",
       "      <td>11.983094</td>\n",
       "      <td>79.418524</td>\n",
       "      <td>Agaram Chithamoor</td>\n",
       "      <td>11.954979</td>\n",
       "      <td>79.419145</td>\n",
       "      <td>Kanai</td>\n",
       "      <td>5</td>\n",
       "      <td>438 kg</td>\n",
       "      <td>Tata ape</td>\n",
       "      <td>190</td>\n",
       "    </tr>\n",
       "    <tr>\n",
       "      <th>3</th>\n",
       "      <td>4</td>\n",
       "      <td>2012-12-01 17:12:12</td>\n",
       "      <td>12.014724</td>\n",
       "      <td>79.383495</td>\n",
       "      <td>Ariyalur Thirukkai</td>\n",
       "      <td>11.954979</td>\n",
       "      <td>79.419145</td>\n",
       "      <td>Kanai</td>\n",
       "      <td>11</td>\n",
       "      <td>1500 kg</td>\n",
       "      <td>Tata 407</td>\n",
       "      <td>715</td>\n",
       "    </tr>\n",
       "    <tr>\n",
       "      <th>4</th>\n",
       "      <td>5</td>\n",
       "      <td>2012-12-01 17:12:12</td>\n",
       "      <td>11.936798</td>\n",
       "      <td>79.369585</td>\n",
       "      <td>Kalpattu</td>\n",
       "      <td>11.954979</td>\n",
       "      <td>79.419145</td>\n",
       "      <td>Kanai</td>\n",
       "      <td>8</td>\n",
       "      <td>2500 kg</td>\n",
       "      <td>Tata 407</td>\n",
       "      <td>520</td>\n",
       "    </tr>\n",
       "  </tbody>\n",
       "</table>\n",
       "</div>"
      ],
      "text/plain": [
       "   S.No     Pickup Datetime  Pickup Latitude\\t  Pickup Longitude  \\\n",
       "0     1 2015-01-27 09:08:24          12.226787         79.516198   \n",
       "1     2 2015-01-27 09:08:24          11.963588         79.440631   \n",
       "2     3 2011-10-08 07:53:44          11.983094         79.418524   \n",
       "3     4 2012-12-01 17:12:12          12.014724         79.383495   \n",
       "4     5 2012-12-01 17:12:12          11.936798         79.369585   \n",
       "\n",
       "               Village Name  Dropoff Latitude\\t  Dropoff Longitude  \\\n",
       "0  Maniyampattu, Tamil Nadu           11.954979          79.419145   \n",
       "1       Aariyur, Tamil Nadu           11.954979          79.419145   \n",
       "2         Agaram Chithamoor           11.954979          79.419145   \n",
       "3        Ariyalur Thirukkai           11.954979          79.419145   \n",
       "4                  Kalpattu           11.954979          79.419145   \n",
       "\n",
       "  Market Name  Kilometer   Weight Vehicle Type  Fare Amount  \n",
       "0       Kanai         55  2500 kg    Tata 407          3575  \n",
       "1       Kanai          7   500 kg     Tata ape          266  \n",
       "2       Kanai          5   438 kg     Tata ape          190  \n",
       "3       Kanai         11  1500 kg    Tata 407           715  \n",
       "4       Kanai          8  2500 kg    Tata 407           520  "
      ]
     },
     "execution_count": 9,
     "metadata": {},
     "output_type": "execute_result"
    }
   ],
   "source": [
    "train_data.head()"
   ]
  },
  {
   "cell_type": "code",
   "execution_count": 10,
   "metadata": {},
   "outputs": [
    {
     "data": {
      "text/plain": [
       "0       1\n",
       "1       1\n",
       "2      10\n",
       "3      12\n",
       "4      12\n",
       "       ..\n",
       "195     5\n",
       "196    11\n",
       "197    11\n",
       "198     1\n",
       "199    11\n",
       "Name: Pickup Datetime, Length: 200, dtype: int64"
      ]
     },
     "execution_count": 10,
     "metadata": {},
     "output_type": "execute_result"
    }
   ],
   "source": [
    "train_data['Pickup Datetime'].dt.month"
   ]
  },
  {
   "cell_type": "code",
   "execution_count": 11,
   "metadata": {},
   "outputs": [],
   "source": [
    "train_data['Year'] = train_data['Pickup Datetime'].dt.year\n",
    "train_data['Month'] = train_data['Pickup Datetime'].dt.month\n",
    "train_data['Day'] = train_data['Pickup Datetime'].dt.day\n",
    "train_data['Hours'] = train_data['Pickup Datetime'].dt.hour\n",
    "train_data['Minutes'] = train_data['Pickup Datetime'].dt.minute"
   ]
  },
  {
   "cell_type": "code",
   "execution_count": 12,
   "metadata": {},
   "outputs": [],
   "source": [
    "train_data['mornight']=np.where(train_data['Hours']<12,0,1)"
   ]
  },
  {
   "cell_type": "code",
   "execution_count": 13,
   "metadata": {},
   "outputs": [
    {
     "data": {
      "text/html": [
       "<div>\n",
       "<style scoped>\n",
       "    .dataframe tbody tr th:only-of-type {\n",
       "        vertical-align: middle;\n",
       "    }\n",
       "\n",
       "    .dataframe tbody tr th {\n",
       "        vertical-align: top;\n",
       "    }\n",
       "\n",
       "    .dataframe thead th {\n",
       "        text-align: right;\n",
       "    }\n",
       "</style>\n",
       "<table border=\"1\" class=\"dataframe\">\n",
       "  <thead>\n",
       "    <tr style=\"text-align: right;\">\n",
       "      <th></th>\n",
       "      <th>S.No</th>\n",
       "      <th>Pickup Datetime</th>\n",
       "      <th>Pickup Latitude\\t</th>\n",
       "      <th>Pickup Longitude</th>\n",
       "      <th>Village Name</th>\n",
       "      <th>Dropoff Latitude\\t</th>\n",
       "      <th>Dropoff Longitude</th>\n",
       "      <th>Market Name</th>\n",
       "      <th>Kilometer</th>\n",
       "      <th>Weight</th>\n",
       "      <th>Vehicle Type</th>\n",
       "      <th>Fare Amount</th>\n",
       "      <th>Year</th>\n",
       "      <th>Month</th>\n",
       "      <th>Day</th>\n",
       "      <th>Hours</th>\n",
       "      <th>Minutes</th>\n",
       "      <th>mornight</th>\n",
       "    </tr>\n",
       "  </thead>\n",
       "  <tbody>\n",
       "    <tr>\n",
       "      <th>0</th>\n",
       "      <td>1</td>\n",
       "      <td>2015-01-27 09:08:24</td>\n",
       "      <td>12.226787</td>\n",
       "      <td>79.516198</td>\n",
       "      <td>Maniyampattu, Tamil Nadu</td>\n",
       "      <td>11.954979</td>\n",
       "      <td>79.419145</td>\n",
       "      <td>Kanai</td>\n",
       "      <td>55</td>\n",
       "      <td>2500 kg</td>\n",
       "      <td>Tata 407</td>\n",
       "      <td>3575</td>\n",
       "      <td>2015</td>\n",
       "      <td>1</td>\n",
       "      <td>27</td>\n",
       "      <td>9</td>\n",
       "      <td>8</td>\n",
       "      <td>0</td>\n",
       "    </tr>\n",
       "    <tr>\n",
       "      <th>1</th>\n",
       "      <td>2</td>\n",
       "      <td>2015-01-27 09:08:24</td>\n",
       "      <td>11.963588</td>\n",
       "      <td>79.440631</td>\n",
       "      <td>Aariyur, Tamil Nadu</td>\n",
       "      <td>11.954979</td>\n",
       "      <td>79.419145</td>\n",
       "      <td>Kanai</td>\n",
       "      <td>7</td>\n",
       "      <td>500 kg</td>\n",
       "      <td>Tata ape</td>\n",
       "      <td>266</td>\n",
       "      <td>2015</td>\n",
       "      <td>1</td>\n",
       "      <td>27</td>\n",
       "      <td>9</td>\n",
       "      <td>8</td>\n",
       "      <td>0</td>\n",
       "    </tr>\n",
       "    <tr>\n",
       "      <th>2</th>\n",
       "      <td>3</td>\n",
       "      <td>2011-10-08 07:53:44</td>\n",
       "      <td>11.983094</td>\n",
       "      <td>79.418524</td>\n",
       "      <td>Agaram Chithamoor</td>\n",
       "      <td>11.954979</td>\n",
       "      <td>79.419145</td>\n",
       "      <td>Kanai</td>\n",
       "      <td>5</td>\n",
       "      <td>438 kg</td>\n",
       "      <td>Tata ape</td>\n",
       "      <td>190</td>\n",
       "      <td>2011</td>\n",
       "      <td>10</td>\n",
       "      <td>8</td>\n",
       "      <td>7</td>\n",
       "      <td>53</td>\n",
       "      <td>0</td>\n",
       "    </tr>\n",
       "    <tr>\n",
       "      <th>3</th>\n",
       "      <td>4</td>\n",
       "      <td>2012-12-01 17:12:12</td>\n",
       "      <td>12.014724</td>\n",
       "      <td>79.383495</td>\n",
       "      <td>Ariyalur Thirukkai</td>\n",
       "      <td>11.954979</td>\n",
       "      <td>79.419145</td>\n",
       "      <td>Kanai</td>\n",
       "      <td>11</td>\n",
       "      <td>1500 kg</td>\n",
       "      <td>Tata 407</td>\n",
       "      <td>715</td>\n",
       "      <td>2012</td>\n",
       "      <td>12</td>\n",
       "      <td>1</td>\n",
       "      <td>17</td>\n",
       "      <td>12</td>\n",
       "      <td>1</td>\n",
       "    </tr>\n",
       "    <tr>\n",
       "      <th>4</th>\n",
       "      <td>5</td>\n",
       "      <td>2012-12-01 17:12:12</td>\n",
       "      <td>11.936798</td>\n",
       "      <td>79.369585</td>\n",
       "      <td>Kalpattu</td>\n",
       "      <td>11.954979</td>\n",
       "      <td>79.419145</td>\n",
       "      <td>Kanai</td>\n",
       "      <td>8</td>\n",
       "      <td>2500 kg</td>\n",
       "      <td>Tata 407</td>\n",
       "      <td>520</td>\n",
       "      <td>2012</td>\n",
       "      <td>12</td>\n",
       "      <td>1</td>\n",
       "      <td>17</td>\n",
       "      <td>12</td>\n",
       "      <td>1</td>\n",
       "    </tr>\n",
       "  </tbody>\n",
       "</table>\n",
       "</div>"
      ],
      "text/plain": [
       "   S.No     Pickup Datetime  Pickup Latitude\\t  Pickup Longitude  \\\n",
       "0     1 2015-01-27 09:08:24          12.226787         79.516198   \n",
       "1     2 2015-01-27 09:08:24          11.963588         79.440631   \n",
       "2     3 2011-10-08 07:53:44          11.983094         79.418524   \n",
       "3     4 2012-12-01 17:12:12          12.014724         79.383495   \n",
       "4     5 2012-12-01 17:12:12          11.936798         79.369585   \n",
       "\n",
       "               Village Name  Dropoff Latitude\\t  Dropoff Longitude  \\\n",
       "0  Maniyampattu, Tamil Nadu           11.954979          79.419145   \n",
       "1       Aariyur, Tamil Nadu           11.954979          79.419145   \n",
       "2         Agaram Chithamoor           11.954979          79.419145   \n",
       "3        Ariyalur Thirukkai           11.954979          79.419145   \n",
       "4                  Kalpattu           11.954979          79.419145   \n",
       "\n",
       "  Market Name  Kilometer   Weight Vehicle Type  Fare Amount  Year  Month  Day  \\\n",
       "0       Kanai         55  2500 kg    Tata 407          3575  2015      1   27   \n",
       "1       Kanai          7   500 kg     Tata ape          266  2015      1   27   \n",
       "2       Kanai          5   438 kg     Tata ape          190  2011     10    8   \n",
       "3       Kanai         11  1500 kg    Tata 407           715  2012     12    1   \n",
       "4       Kanai          8  2500 kg    Tata 407           520  2012     12    1   \n",
       "\n",
       "   Hours  Minutes  mornight  \n",
       "0      9        8         0  \n",
       "1      9        8         0  \n",
       "2      7       53         0  \n",
       "3     17       12         1  \n",
       "4     17       12         1  "
      ]
     },
     "execution_count": 13,
     "metadata": {},
     "output_type": "execute_result"
    }
   ],
   "source": [
    "train_data.head()"
   ]
  },
  {
   "cell_type": "code",
   "execution_count": 14,
   "metadata": {},
   "outputs": [],
   "source": [
    "train_data.drop('Pickup Datetime',axis=1,inplace=True)"
   ]
  },
  {
   "cell_type": "code",
   "execution_count": 15,
   "metadata": {},
   "outputs": [
    {
     "data": {
      "text/html": [
       "<div>\n",
       "<style scoped>\n",
       "    .dataframe tbody tr th:only-of-type {\n",
       "        vertical-align: middle;\n",
       "    }\n",
       "\n",
       "    .dataframe tbody tr th {\n",
       "        vertical-align: top;\n",
       "    }\n",
       "\n",
       "    .dataframe thead th {\n",
       "        text-align: right;\n",
       "    }\n",
       "</style>\n",
       "<table border=\"1\" class=\"dataframe\">\n",
       "  <thead>\n",
       "    <tr style=\"text-align: right;\">\n",
       "      <th></th>\n",
       "      <th>S.No</th>\n",
       "      <th>Pickup Latitude\\t</th>\n",
       "      <th>Pickup Longitude</th>\n",
       "      <th>Village Name</th>\n",
       "      <th>Dropoff Latitude\\t</th>\n",
       "      <th>Dropoff Longitude</th>\n",
       "      <th>Market Name</th>\n",
       "      <th>Kilometer</th>\n",
       "      <th>Weight</th>\n",
       "      <th>Vehicle Type</th>\n",
       "      <th>Fare Amount</th>\n",
       "      <th>Year</th>\n",
       "      <th>Month</th>\n",
       "      <th>Day</th>\n",
       "      <th>Hours</th>\n",
       "      <th>Minutes</th>\n",
       "      <th>mornight</th>\n",
       "    </tr>\n",
       "  </thead>\n",
       "  <tbody>\n",
       "    <tr>\n",
       "      <th>0</th>\n",
       "      <td>1</td>\n",
       "      <td>12.226787</td>\n",
       "      <td>79.516198</td>\n",
       "      <td>Maniyampattu, Tamil Nadu</td>\n",
       "      <td>11.954979</td>\n",
       "      <td>79.419145</td>\n",
       "      <td>Kanai</td>\n",
       "      <td>55</td>\n",
       "      <td>2500 kg</td>\n",
       "      <td>Tata 407</td>\n",
       "      <td>3575</td>\n",
       "      <td>2015</td>\n",
       "      <td>1</td>\n",
       "      <td>27</td>\n",
       "      <td>9</td>\n",
       "      <td>8</td>\n",
       "      <td>0</td>\n",
       "    </tr>\n",
       "    <tr>\n",
       "      <th>1</th>\n",
       "      <td>2</td>\n",
       "      <td>11.963588</td>\n",
       "      <td>79.440631</td>\n",
       "      <td>Aariyur, Tamil Nadu</td>\n",
       "      <td>11.954979</td>\n",
       "      <td>79.419145</td>\n",
       "      <td>Kanai</td>\n",
       "      <td>7</td>\n",
       "      <td>500 kg</td>\n",
       "      <td>Tata ape</td>\n",
       "      <td>266</td>\n",
       "      <td>2015</td>\n",
       "      <td>1</td>\n",
       "      <td>27</td>\n",
       "      <td>9</td>\n",
       "      <td>8</td>\n",
       "      <td>0</td>\n",
       "    </tr>\n",
       "    <tr>\n",
       "      <th>2</th>\n",
       "      <td>3</td>\n",
       "      <td>11.983094</td>\n",
       "      <td>79.418524</td>\n",
       "      <td>Agaram Chithamoor</td>\n",
       "      <td>11.954979</td>\n",
       "      <td>79.419145</td>\n",
       "      <td>Kanai</td>\n",
       "      <td>5</td>\n",
       "      <td>438 kg</td>\n",
       "      <td>Tata ape</td>\n",
       "      <td>190</td>\n",
       "      <td>2011</td>\n",
       "      <td>10</td>\n",
       "      <td>8</td>\n",
       "      <td>7</td>\n",
       "      <td>53</td>\n",
       "      <td>0</td>\n",
       "    </tr>\n",
       "    <tr>\n",
       "      <th>3</th>\n",
       "      <td>4</td>\n",
       "      <td>12.014724</td>\n",
       "      <td>79.383495</td>\n",
       "      <td>Ariyalur Thirukkai</td>\n",
       "      <td>11.954979</td>\n",
       "      <td>79.419145</td>\n",
       "      <td>Kanai</td>\n",
       "      <td>11</td>\n",
       "      <td>1500 kg</td>\n",
       "      <td>Tata 407</td>\n",
       "      <td>715</td>\n",
       "      <td>2012</td>\n",
       "      <td>12</td>\n",
       "      <td>1</td>\n",
       "      <td>17</td>\n",
       "      <td>12</td>\n",
       "      <td>1</td>\n",
       "    </tr>\n",
       "    <tr>\n",
       "      <th>4</th>\n",
       "      <td>5</td>\n",
       "      <td>11.936798</td>\n",
       "      <td>79.369585</td>\n",
       "      <td>Kalpattu</td>\n",
       "      <td>11.954979</td>\n",
       "      <td>79.419145</td>\n",
       "      <td>Kanai</td>\n",
       "      <td>8</td>\n",
       "      <td>2500 kg</td>\n",
       "      <td>Tata 407</td>\n",
       "      <td>520</td>\n",
       "      <td>2012</td>\n",
       "      <td>12</td>\n",
       "      <td>1</td>\n",
       "      <td>17</td>\n",
       "      <td>12</td>\n",
       "      <td>1</td>\n",
       "    </tr>\n",
       "  </tbody>\n",
       "</table>\n",
       "</div>"
      ],
      "text/plain": [
       "   S.No  Pickup Latitude\\t  Pickup Longitude              Village Name  \\\n",
       "0     1          12.226787         79.516198  Maniyampattu, Tamil Nadu   \n",
       "1     2          11.963588         79.440631       Aariyur, Tamil Nadu   \n",
       "2     3          11.983094         79.418524         Agaram Chithamoor   \n",
       "3     4          12.014724         79.383495        Ariyalur Thirukkai   \n",
       "4     5          11.936798         79.369585                  Kalpattu   \n",
       "\n",
       "   Dropoff Latitude\\t  Dropoff Longitude Market Name  Kilometer   Weight  \\\n",
       "0           11.954979          79.419145       Kanai         55  2500 kg   \n",
       "1           11.954979          79.419145       Kanai          7   500 kg   \n",
       "2           11.954979          79.419145       Kanai          5   438 kg   \n",
       "3           11.954979          79.419145       Kanai         11  1500 kg   \n",
       "4           11.954979          79.419145       Kanai          8  2500 kg   \n",
       "\n",
       "  Vehicle Type  Fare Amount  Year  Month  Day  Hours  Minutes  mornight  \n",
       "0    Tata 407          3575  2015      1   27      9        8         0  \n",
       "1     Tata ape          266  2015      1   27      9        8         0  \n",
       "2     Tata ape          190  2011     10    8      7       53         0  \n",
       "3    Tata 407           715  2012     12    1     17       12         1  \n",
       "4    Tata 407           520  2012     12    1     17       12         1  "
      ]
     },
     "execution_count": 15,
     "metadata": {},
     "output_type": "execute_result"
    }
   ],
   "source": [
    "train_data.head()"
   ]
  },
  {
   "cell_type": "code",
   "execution_count": 16,
   "metadata": {},
   "outputs": [],
   "source": [
    "from sklearn.metrics.pairwise import haversine_distances\n",
    "from math import radians\n",
    "maniyampattu =[12.226787,79.516198]\n",
    "kanai = [11.954979,79.419145]"
   ]
  },
  {
   "cell_type": "code",
   "execution_count": 17,
   "metadata": {},
   "outputs": [],
   "source": [
    "maniyampattu_in_radians = [radians(_) for _ in maniyampattu]\n",
    "kanai_in_radians = [radians(_) for _ in kanai]"
   ]
  },
  {
   "cell_type": "code",
   "execution_count": 18,
   "metadata": {},
   "outputs": [],
   "source": [
    "result = haversine_distances([maniyampattu_in_radians,kanai_in_radians])"
   ]
  },
  {
   "cell_type": "code",
   "execution_count": 19,
   "metadata": {},
   "outputs": [
    {
     "data": {
      "text/plain": [
       "array([[ 0.       , 32.0128602],\n",
       "       [32.0128602,  0.       ]])"
      ]
     },
     "execution_count": 19,
     "metadata": {},
     "output_type": "execute_result"
    }
   ],
   "source": [
    "result*6371"
   ]
  },
  {
   "cell_type": "code",
   "execution_count": 20,
   "metadata": {},
   "outputs": [
    {
     "data": {
      "text/plain": [
       "0     -0.004744\n",
       "1     -0.000150\n",
       "2     -0.000491\n",
       "3     -0.001043\n",
       "4      0.000317\n",
       "         ...   \n",
       "195    0.000531\n",
       "196    0.000235\n",
       "197    0.000654\n",
       "198    0.000860\n",
       "199    0.000485\n",
       "Length: 200, dtype: float64"
      ]
     },
     "execution_count": 20,
     "metadata": {},
     "output_type": "execute_result"
    }
   ],
   "source": [
    "np.radians(train_data['Dropoff Latitude\\t']-train_data['Pickup Latitude\\t'])"
   ]
  },
  {
   "cell_type": "code",
   "execution_count": 21,
   "metadata": {},
   "outputs": [],
   "source": [
    "def haversine(train_data):\n",
    "    \n",
    "    lat1 = np.radians(train_data[\"Pickup Latitude\\t\"])\n",
    "    lat2 = np.radians(train_data[\"Dropoff Latitude\\t\"])\n",
    "\n",
    "    dlat = np.radians(train_data['Dropoff Latitude\\t']-train_data['Pickup Latitude\\t'])\n",
    "    dlong = np.radians(train_data['Dropoff Longitude']-train_data['Pickup Longitude'])\n",
    "    a = np.sin(dlat/2)**2 + np.cos(lat1) * np.cos(lat2) * np.sin(dlong/2)**2\n",
    "\n",
    "    c = 2 * np.arctan2(np.sqrt(a), np.sqrt(1-a))\n",
    "    r = 6371\n",
    "    return c * r"
   ]
  },
  {
   "cell_type": "code",
   "execution_count": 22,
   "metadata": {},
   "outputs": [],
   "source": [
    "train_data['Total distance'] = haversine(train_data)"
   ]
  },
  {
   "cell_type": "code",
   "execution_count": 23,
   "metadata": {},
   "outputs": [
    {
     "data": {
      "text/html": [
       "<div>\n",
       "<style scoped>\n",
       "    .dataframe tbody tr th:only-of-type {\n",
       "        vertical-align: middle;\n",
       "    }\n",
       "\n",
       "    .dataframe tbody tr th {\n",
       "        vertical-align: top;\n",
       "    }\n",
       "\n",
       "    .dataframe thead th {\n",
       "        text-align: right;\n",
       "    }\n",
       "</style>\n",
       "<table border=\"1\" class=\"dataframe\">\n",
       "  <thead>\n",
       "    <tr style=\"text-align: right;\">\n",
       "      <th></th>\n",
       "      <th>S.No</th>\n",
       "      <th>Pickup Latitude\\t</th>\n",
       "      <th>Pickup Longitude</th>\n",
       "      <th>Village Name</th>\n",
       "      <th>Dropoff Latitude\\t</th>\n",
       "      <th>Dropoff Longitude</th>\n",
       "      <th>Market Name</th>\n",
       "      <th>Kilometer</th>\n",
       "      <th>Weight</th>\n",
       "      <th>Vehicle Type</th>\n",
       "      <th>Fare Amount</th>\n",
       "      <th>Year</th>\n",
       "      <th>Month</th>\n",
       "      <th>Day</th>\n",
       "      <th>Hours</th>\n",
       "      <th>Minutes</th>\n",
       "      <th>mornight</th>\n",
       "      <th>Total distance</th>\n",
       "    </tr>\n",
       "  </thead>\n",
       "  <tbody>\n",
       "    <tr>\n",
       "      <th>0</th>\n",
       "      <td>1</td>\n",
       "      <td>12.226787</td>\n",
       "      <td>79.516198</td>\n",
       "      <td>Maniyampattu, Tamil Nadu</td>\n",
       "      <td>11.954979</td>\n",
       "      <td>79.419145</td>\n",
       "      <td>Kanai</td>\n",
       "      <td>55</td>\n",
       "      <td>2500 kg</td>\n",
       "      <td>Tata 407</td>\n",
       "      <td>3575</td>\n",
       "      <td>2015</td>\n",
       "      <td>1</td>\n",
       "      <td>27</td>\n",
       "      <td>9</td>\n",
       "      <td>8</td>\n",
       "      <td>0</td>\n",
       "      <td>32.012835</td>\n",
       "    </tr>\n",
       "    <tr>\n",
       "      <th>1</th>\n",
       "      <td>2</td>\n",
       "      <td>11.963588</td>\n",
       "      <td>79.440631</td>\n",
       "      <td>Aariyur, Tamil Nadu</td>\n",
       "      <td>11.954979</td>\n",
       "      <td>79.419145</td>\n",
       "      <td>Kanai</td>\n",
       "      <td>7</td>\n",
       "      <td>500 kg</td>\n",
       "      <td>Tata ape</td>\n",
       "      <td>266</td>\n",
       "      <td>2015</td>\n",
       "      <td>1</td>\n",
       "      <td>27</td>\n",
       "      <td>9</td>\n",
       "      <td>8</td>\n",
       "      <td>0</td>\n",
       "      <td>2.525760</td>\n",
       "    </tr>\n",
       "    <tr>\n",
       "      <th>2</th>\n",
       "      <td>3</td>\n",
       "      <td>11.983094</td>\n",
       "      <td>79.418524</td>\n",
       "      <td>Agaram Chithamoor</td>\n",
       "      <td>11.954979</td>\n",
       "      <td>79.419145</td>\n",
       "      <td>Kanai</td>\n",
       "      <td>5</td>\n",
       "      <td>438 kg</td>\n",
       "      <td>Tata ape</td>\n",
       "      <td>190</td>\n",
       "      <td>2011</td>\n",
       "      <td>10</td>\n",
       "      <td>8</td>\n",
       "      <td>7</td>\n",
       "      <td>53</td>\n",
       "      <td>0</td>\n",
       "      <td>3.126972</td>\n",
       "    </tr>\n",
       "    <tr>\n",
       "      <th>3</th>\n",
       "      <td>4</td>\n",
       "      <td>12.014724</td>\n",
       "      <td>79.383495</td>\n",
       "      <td>Ariyalur Thirukkai</td>\n",
       "      <td>11.954979</td>\n",
       "      <td>79.419145</td>\n",
       "      <td>Kanai</td>\n",
       "      <td>11</td>\n",
       "      <td>1500 kg</td>\n",
       "      <td>Tata 407</td>\n",
       "      <td>715</td>\n",
       "      <td>2012</td>\n",
       "      <td>12</td>\n",
       "      <td>1</td>\n",
       "      <td>17</td>\n",
       "      <td>12</td>\n",
       "      <td>1</td>\n",
       "      <td>7.692249</td>\n",
       "    </tr>\n",
       "    <tr>\n",
       "      <th>4</th>\n",
       "      <td>5</td>\n",
       "      <td>11.936798</td>\n",
       "      <td>79.369585</td>\n",
       "      <td>Kalpattu</td>\n",
       "      <td>11.954979</td>\n",
       "      <td>79.419145</td>\n",
       "      <td>Kanai</td>\n",
       "      <td>8</td>\n",
       "      <td>2500 kg</td>\n",
       "      <td>Tata 407</td>\n",
       "      <td>520</td>\n",
       "      <td>2012</td>\n",
       "      <td>12</td>\n",
       "      <td>1</td>\n",
       "      <td>17</td>\n",
       "      <td>12</td>\n",
       "      <td>1</td>\n",
       "      <td>5.758027</td>\n",
       "    </tr>\n",
       "  </tbody>\n",
       "</table>\n",
       "</div>"
      ],
      "text/plain": [
       "   S.No  Pickup Latitude\\t  Pickup Longitude              Village Name  \\\n",
       "0     1          12.226787         79.516198  Maniyampattu, Tamil Nadu   \n",
       "1     2          11.963588         79.440631       Aariyur, Tamil Nadu   \n",
       "2     3          11.983094         79.418524         Agaram Chithamoor   \n",
       "3     4          12.014724         79.383495        Ariyalur Thirukkai   \n",
       "4     5          11.936798         79.369585                  Kalpattu   \n",
       "\n",
       "   Dropoff Latitude\\t  Dropoff Longitude Market Name  Kilometer   Weight  \\\n",
       "0           11.954979          79.419145       Kanai         55  2500 kg   \n",
       "1           11.954979          79.419145       Kanai          7   500 kg   \n",
       "2           11.954979          79.419145       Kanai          5   438 kg   \n",
       "3           11.954979          79.419145       Kanai         11  1500 kg   \n",
       "4           11.954979          79.419145       Kanai          8  2500 kg   \n",
       "\n",
       "  Vehicle Type  Fare Amount  Year  Month  Day  Hours  Minutes  mornight  \\\n",
       "0    Tata 407          3575  2015      1   27      9        8         0   \n",
       "1     Tata ape          266  2015      1   27      9        8         0   \n",
       "2     Tata ape          190  2011     10    8      7       53         0   \n",
       "3    Tata 407           715  2012     12    1     17       12         1   \n",
       "4    Tata 407           520  2012     12    1     17       12         1   \n",
       "\n",
       "   Total distance  \n",
       "0       32.012835  \n",
       "1        2.525760  \n",
       "2        3.126972  \n",
       "3        7.692249  \n",
       "4        5.758027  "
      ]
     },
     "execution_count": 23,
     "metadata": {},
     "output_type": "execute_result"
    }
   ],
   "source": [
    "train_data.head()"
   ]
  },
  {
   "cell_type": "markdown",
   "metadata": {},
   "source": [
    "Handling Categorical Data\n",
    "    \n",
    "    One can find many ways to handle categorical data. Some of them categorical data are,\n",
    "\n",
    "    1.Nominal data --> data are not in any order --> OneHotEncoder is used in this case\n",
    "    2.Ordinal data --> data are in order --> LabelEncoder is used in this case"
   ]
  },
  {
   "cell_type": "code",
   "execution_count": 24,
   "metadata": {},
   "outputs": [
    {
     "data": {
      "text/plain": [
       "array([ 41,  86,  80,  14, 105,  90,  92, 103,   7,   2,   0,  27,  40,\n",
       "        81,  71, 108, 116,   3, 110,   5,  67,  20,   8,  10,  12, 118,\n",
       "        84,  77,  89,  13,  58,  33,  44,  98,  76,  21,  38,  61,  87,\n",
       "        65,  66, 100,  36,  79,  88,  35, 102,   9,  24,  73,  68,  83,\n",
       "        60,  97,  52,  72, 101,  63,  47,  19,  34,  50,  28,  75,  69,\n",
       "        64,  45,  23,  18, 115,  32,  31, 109,   1,  95,  49,  78,  15,\n",
       "        11, 107,  70,  99, 112, 106,  82,  43,  26,   6,  85,  39,  48,\n",
       "        37,  74,  42,  25,  16,  17,  22,  30,   4, 104,  96, 111,  94,\n",
       "        91,  93, 119, 113, 114, 117,  29,  54,  56,  55,  51,  46,  53,\n",
       "        57,  59,  62])"
      ]
     },
     "execution_count": 24,
     "metadata": {},
     "output_type": "execute_result"
    }
   ],
   "source": [
    "# Import label encoder \n",
    "from sklearn import preprocessing \n",
    "\n",
    "# label_encoder object knows \n",
    "# how to understand word labels. \n",
    "label_encoder = preprocessing.LabelEncoder() \n",
    "\n",
    "# Encode labels in column 'species'. \n",
    "train_data['Vehicle Type']= label_encoder.fit_transform(train_data['Vehicle Type']) \n",
    "train_data['Village Name']= label_encoder.fit_transform(train_data['Village Name'])\n",
    "train_data['Market Name']= label_encoder.fit_transform(train_data['Market Name'])\n",
    "train_data['Weight']= label_encoder.fit_transform(train_data['Weight'])\n",
    "\n",
    "train_data['Vehicle Type'].unique() \n",
    "train_data['Village Name'].unique()\n",
    "train_data['Market Name'].unique()\n",
    "train_data['Weight'].unique()"
   ]
  },
  {
   "cell_type": "code",
   "execution_count": 25,
   "metadata": {},
   "outputs": [
    {
     "data": {
      "text/html": [
       "<div>\n",
       "<style scoped>\n",
       "    .dataframe tbody tr th:only-of-type {\n",
       "        vertical-align: middle;\n",
       "    }\n",
       "\n",
       "    .dataframe tbody tr th {\n",
       "        vertical-align: top;\n",
       "    }\n",
       "\n",
       "    .dataframe thead th {\n",
       "        text-align: right;\n",
       "    }\n",
       "</style>\n",
       "<table border=\"1\" class=\"dataframe\">\n",
       "  <thead>\n",
       "    <tr style=\"text-align: right;\">\n",
       "      <th></th>\n",
       "      <th>S.No</th>\n",
       "      <th>Pickup Latitude\\t</th>\n",
       "      <th>Pickup Longitude</th>\n",
       "      <th>Village Name</th>\n",
       "      <th>Dropoff Latitude\\t</th>\n",
       "      <th>Dropoff Longitude</th>\n",
       "      <th>Market Name</th>\n",
       "      <th>Kilometer</th>\n",
       "      <th>Weight</th>\n",
       "      <th>Vehicle Type</th>\n",
       "      <th>Fare Amount</th>\n",
       "      <th>Year</th>\n",
       "      <th>Month</th>\n",
       "      <th>Day</th>\n",
       "      <th>Hours</th>\n",
       "      <th>Minutes</th>\n",
       "      <th>mornight</th>\n",
       "      <th>Total distance</th>\n",
       "    </tr>\n",
       "  </thead>\n",
       "  <tbody>\n",
       "    <tr>\n",
       "      <th>0</th>\n",
       "      <td>1</td>\n",
       "      <td>12.226787</td>\n",
       "      <td>79.516198</td>\n",
       "      <td>91</td>\n",
       "      <td>11.954979</td>\n",
       "      <td>79.419145</td>\n",
       "      <td>1</td>\n",
       "      <td>55</td>\n",
       "      <td>41</td>\n",
       "      <td>2</td>\n",
       "      <td>3575</td>\n",
       "      <td>2015</td>\n",
       "      <td>1</td>\n",
       "      <td>27</td>\n",
       "      <td>9</td>\n",
       "      <td>8</td>\n",
       "      <td>0</td>\n",
       "      <td>32.012835</td>\n",
       "    </tr>\n",
       "    <tr>\n",
       "      <th>1</th>\n",
       "      <td>2</td>\n",
       "      <td>11.963588</td>\n",
       "      <td>79.440631</td>\n",
       "      <td>0</td>\n",
       "      <td>11.954979</td>\n",
       "      <td>79.419145</td>\n",
       "      <td>1</td>\n",
       "      <td>7</td>\n",
       "      <td>86</td>\n",
       "      <td>4</td>\n",
       "      <td>266</td>\n",
       "      <td>2015</td>\n",
       "      <td>1</td>\n",
       "      <td>27</td>\n",
       "      <td>9</td>\n",
       "      <td>8</td>\n",
       "      <td>0</td>\n",
       "      <td>2.525760</td>\n",
       "    </tr>\n",
       "    <tr>\n",
       "      <th>2</th>\n",
       "      <td>3</td>\n",
       "      <td>11.983094</td>\n",
       "      <td>79.418524</td>\n",
       "      <td>3</td>\n",
       "      <td>11.954979</td>\n",
       "      <td>79.419145</td>\n",
       "      <td>1</td>\n",
       "      <td>5</td>\n",
       "      <td>80</td>\n",
       "      <td>4</td>\n",
       "      <td>190</td>\n",
       "      <td>2011</td>\n",
       "      <td>10</td>\n",
       "      <td>8</td>\n",
       "      <td>7</td>\n",
       "      <td>53</td>\n",
       "      <td>0</td>\n",
       "      <td>3.126972</td>\n",
       "    </tr>\n",
       "    <tr>\n",
       "      <th>3</th>\n",
       "      <td>4</td>\n",
       "      <td>12.014724</td>\n",
       "      <td>79.383495</td>\n",
       "      <td>10</td>\n",
       "      <td>11.954979</td>\n",
       "      <td>79.419145</td>\n",
       "      <td>1</td>\n",
       "      <td>11</td>\n",
       "      <td>14</td>\n",
       "      <td>2</td>\n",
       "      <td>715</td>\n",
       "      <td>2012</td>\n",
       "      <td>12</td>\n",
       "      <td>1</td>\n",
       "      <td>17</td>\n",
       "      <td>12</td>\n",
       "      <td>1</td>\n",
       "      <td>7.692249</td>\n",
       "    </tr>\n",
       "    <tr>\n",
       "      <th>4</th>\n",
       "      <td>5</td>\n",
       "      <td>11.936798</td>\n",
       "      <td>79.369585</td>\n",
       "      <td>40</td>\n",
       "      <td>11.954979</td>\n",
       "      <td>79.419145</td>\n",
       "      <td>1</td>\n",
       "      <td>8</td>\n",
       "      <td>41</td>\n",
       "      <td>2</td>\n",
       "      <td>520</td>\n",
       "      <td>2012</td>\n",
       "      <td>12</td>\n",
       "      <td>1</td>\n",
       "      <td>17</td>\n",
       "      <td>12</td>\n",
       "      <td>1</td>\n",
       "      <td>5.758027</td>\n",
       "    </tr>\n",
       "  </tbody>\n",
       "</table>\n",
       "</div>"
      ],
      "text/plain": [
       "   S.No  Pickup Latitude\\t  Pickup Longitude  Village Name  \\\n",
       "0     1          12.226787         79.516198            91   \n",
       "1     2          11.963588         79.440631             0   \n",
       "2     3          11.983094         79.418524             3   \n",
       "3     4          12.014724         79.383495            10   \n",
       "4     5          11.936798         79.369585            40   \n",
       "\n",
       "   Dropoff Latitude\\t  Dropoff Longitude  Market Name  Kilometer  Weight  \\\n",
       "0           11.954979          79.419145            1         55      41   \n",
       "1           11.954979          79.419145            1          7      86   \n",
       "2           11.954979          79.419145            1          5      80   \n",
       "3           11.954979          79.419145            1         11      14   \n",
       "4           11.954979          79.419145            1          8      41   \n",
       "\n",
       "   Vehicle Type  Fare Amount  Year  Month  Day  Hours  Minutes  mornight  \\\n",
       "0             2         3575  2015      1   27      9        8         0   \n",
       "1             4          266  2015      1   27      9        8         0   \n",
       "2             4          190  2011     10    8      7       53         0   \n",
       "3             2          715  2012     12    1     17       12         1   \n",
       "4             2          520  2012     12    1     17       12         1   \n",
       "\n",
       "   Total distance  \n",
       "0       32.012835  \n",
       "1        2.525760  \n",
       "2        3.126972  \n",
       "3        7.692249  \n",
       "4        5.758027  "
      ]
     },
     "execution_count": 25,
     "metadata": {},
     "output_type": "execute_result"
    }
   ],
   "source": [
    "train_data.head()"
   ]
  },
  {
   "cell_type": "code",
   "execution_count": 26,
   "metadata": {},
   "outputs": [],
   "source": [
    "train_data.drop(['S.No','Pickup Latitude\\t','Pickup Longitude','Dropoff Latitude\\t','Dropoff Longitude'],axis=1,inplace=True)"
   ]
  },
  {
   "cell_type": "code",
   "execution_count": 27,
   "metadata": {},
   "outputs": [
    {
     "data": {
      "text/html": [
       "<div>\n",
       "<style scoped>\n",
       "    .dataframe tbody tr th:only-of-type {\n",
       "        vertical-align: middle;\n",
       "    }\n",
       "\n",
       "    .dataframe tbody tr th {\n",
       "        vertical-align: top;\n",
       "    }\n",
       "\n",
       "    .dataframe thead th {\n",
       "        text-align: right;\n",
       "    }\n",
       "</style>\n",
       "<table border=\"1\" class=\"dataframe\">\n",
       "  <thead>\n",
       "    <tr style=\"text-align: right;\">\n",
       "      <th></th>\n",
       "      <th>Village Name</th>\n",
       "      <th>Market Name</th>\n",
       "      <th>Kilometer</th>\n",
       "      <th>Weight</th>\n",
       "      <th>Vehicle Type</th>\n",
       "      <th>Fare Amount</th>\n",
       "      <th>Year</th>\n",
       "      <th>Month</th>\n",
       "      <th>Day</th>\n",
       "      <th>Hours</th>\n",
       "      <th>Minutes</th>\n",
       "      <th>mornight</th>\n",
       "      <th>Total distance</th>\n",
       "    </tr>\n",
       "  </thead>\n",
       "  <tbody>\n",
       "    <tr>\n",
       "      <th>0</th>\n",
       "      <td>91</td>\n",
       "      <td>1</td>\n",
       "      <td>55</td>\n",
       "      <td>41</td>\n",
       "      <td>2</td>\n",
       "      <td>3575</td>\n",
       "      <td>2015</td>\n",
       "      <td>1</td>\n",
       "      <td>27</td>\n",
       "      <td>9</td>\n",
       "      <td>8</td>\n",
       "      <td>0</td>\n",
       "      <td>32.012835</td>\n",
       "    </tr>\n",
       "    <tr>\n",
       "      <th>1</th>\n",
       "      <td>0</td>\n",
       "      <td>1</td>\n",
       "      <td>7</td>\n",
       "      <td>86</td>\n",
       "      <td>4</td>\n",
       "      <td>266</td>\n",
       "      <td>2015</td>\n",
       "      <td>1</td>\n",
       "      <td>27</td>\n",
       "      <td>9</td>\n",
       "      <td>8</td>\n",
       "      <td>0</td>\n",
       "      <td>2.525760</td>\n",
       "    </tr>\n",
       "    <tr>\n",
       "      <th>2</th>\n",
       "      <td>3</td>\n",
       "      <td>1</td>\n",
       "      <td>5</td>\n",
       "      <td>80</td>\n",
       "      <td>4</td>\n",
       "      <td>190</td>\n",
       "      <td>2011</td>\n",
       "      <td>10</td>\n",
       "      <td>8</td>\n",
       "      <td>7</td>\n",
       "      <td>53</td>\n",
       "      <td>0</td>\n",
       "      <td>3.126972</td>\n",
       "    </tr>\n",
       "    <tr>\n",
       "      <th>3</th>\n",
       "      <td>10</td>\n",
       "      <td>1</td>\n",
       "      <td>11</td>\n",
       "      <td>14</td>\n",
       "      <td>2</td>\n",
       "      <td>715</td>\n",
       "      <td>2012</td>\n",
       "      <td>12</td>\n",
       "      <td>1</td>\n",
       "      <td>17</td>\n",
       "      <td>12</td>\n",
       "      <td>1</td>\n",
       "      <td>7.692249</td>\n",
       "    </tr>\n",
       "    <tr>\n",
       "      <th>4</th>\n",
       "      <td>40</td>\n",
       "      <td>1</td>\n",
       "      <td>8</td>\n",
       "      <td>41</td>\n",
       "      <td>2</td>\n",
       "      <td>520</td>\n",
       "      <td>2012</td>\n",
       "      <td>12</td>\n",
       "      <td>1</td>\n",
       "      <td>17</td>\n",
       "      <td>12</td>\n",
       "      <td>1</td>\n",
       "      <td>5.758027</td>\n",
       "    </tr>\n",
       "  </tbody>\n",
       "</table>\n",
       "</div>"
      ],
      "text/plain": [
       "   Village Name  Market Name  Kilometer  Weight  Vehicle Type  Fare Amount  \\\n",
       "0            91            1         55      41             2         3575   \n",
       "1             0            1          7      86             4          266   \n",
       "2             3            1          5      80             4          190   \n",
       "3            10            1         11      14             2          715   \n",
       "4            40            1          8      41             2          520   \n",
       "\n",
       "   Year  Month  Day  Hours  Minutes  mornight  Total distance  \n",
       "0  2015      1   27      9        8         0       32.012835  \n",
       "1  2015      1   27      9        8         0        2.525760  \n",
       "2  2011     10    8      7       53         0        3.126972  \n",
       "3  2012     12    1     17       12         1        7.692249  \n",
       "4  2012     12    1     17       12         1        5.758027  "
      ]
     },
     "execution_count": 27,
     "metadata": {},
     "output_type": "execute_result"
    }
   ],
   "source": [
    "train_data.head()"
   ]
  },
  {
   "cell_type": "code",
   "execution_count": 28,
   "metadata": {},
   "outputs": [
    {
     "data": {
      "text/html": [
       "<div>\n",
       "<style scoped>\n",
       "    .dataframe tbody tr th:only-of-type {\n",
       "        vertical-align: middle;\n",
       "    }\n",
       "\n",
       "    .dataframe tbody tr th {\n",
       "        vertical-align: top;\n",
       "    }\n",
       "\n",
       "    .dataframe thead th {\n",
       "        text-align: right;\n",
       "    }\n",
       "</style>\n",
       "<table border=\"1\" class=\"dataframe\">\n",
       "  <thead>\n",
       "    <tr style=\"text-align: right;\">\n",
       "      <th></th>\n",
       "      <th>S.No</th>\n",
       "      <th>Pickup Datetime</th>\n",
       "      <th>Pickup Latitude\\t</th>\n",
       "      <th>Pickup Longitude</th>\n",
       "      <th>Village Name</th>\n",
       "      <th>Dropoff Latitude\\t</th>\n",
       "      <th>Dropoff Longitude</th>\n",
       "      <th>Market Name</th>\n",
       "      <th>Kilometer</th>\n",
       "      <th>Weight</th>\n",
       "      <th>Vehicle Type</th>\n",
       "    </tr>\n",
       "  </thead>\n",
       "  <tbody>\n",
       "    <tr>\n",
       "      <th>0</th>\n",
       "      <td>1</td>\n",
       "      <td>2015-01-27 13:08:24 IST</td>\n",
       "      <td>12.226787</td>\n",
       "      <td>79.516198</td>\n",
       "      <td>Maniyampattu, Tamil Nadu</td>\n",
       "      <td>11.954979</td>\n",
       "      <td>79.419145</td>\n",
       "      <td>Kanai</td>\n",
       "      <td>55</td>\n",
       "      <td>2500 kg</td>\n",
       "      <td>Tata 407</td>\n",
       "    </tr>\n",
       "    <tr>\n",
       "      <th>1</th>\n",
       "      <td>2</td>\n",
       "      <td>2015-01-27 13:08:24 IST</td>\n",
       "      <td>11.963588</td>\n",
       "      <td>79.440631</td>\n",
       "      <td>Aariyur, Tamil Nadu</td>\n",
       "      <td>11.954979</td>\n",
       "      <td>79.419145</td>\n",
       "      <td>Kanai</td>\n",
       "      <td>7</td>\n",
       "      <td>500 kg</td>\n",
       "      <td>Tata ape</td>\n",
       "    </tr>\n",
       "    <tr>\n",
       "      <th>2</th>\n",
       "      <td>3</td>\n",
       "      <td>2011-10-08 11:53:44 IST</td>\n",
       "      <td>11.983094</td>\n",
       "      <td>79.418524</td>\n",
       "      <td>Agaram Chithamoor</td>\n",
       "      <td>11.954979</td>\n",
       "      <td>79.419145</td>\n",
       "      <td>Kanai</td>\n",
       "      <td>5</td>\n",
       "      <td>438 kg</td>\n",
       "      <td>Tata ape</td>\n",
       "    </tr>\n",
       "    <tr>\n",
       "      <th>3</th>\n",
       "      <td>4</td>\n",
       "      <td>2012-12-01 21:12:12 IST</td>\n",
       "      <td>12.014724</td>\n",
       "      <td>79.383495</td>\n",
       "      <td>Ariyalur Thirukkai</td>\n",
       "      <td>11.954979</td>\n",
       "      <td>79.419145</td>\n",
       "      <td>Kanai</td>\n",
       "      <td>11</td>\n",
       "      <td>1500 kg</td>\n",
       "      <td>Tata 407</td>\n",
       "    </tr>\n",
       "    <tr>\n",
       "      <th>4</th>\n",
       "      <td>5</td>\n",
       "      <td>2012-12-01 21:12:12 IST</td>\n",
       "      <td>11.936798</td>\n",
       "      <td>79.369585</td>\n",
       "      <td>Kalpattu</td>\n",
       "      <td>11.954979</td>\n",
       "      <td>79.419145</td>\n",
       "      <td>Kanai</td>\n",
       "      <td>8</td>\n",
       "      <td>2500 kg</td>\n",
       "      <td>Tata 407</td>\n",
       "    </tr>\n",
       "  </tbody>\n",
       "</table>\n",
       "</div>"
      ],
      "text/plain": [
       "   S.No          Pickup Datetime  Pickup Latitude\\t  Pickup Longitude  \\\n",
       "0     1  2015-01-27 13:08:24 IST          12.226787         79.516198   \n",
       "1     2  2015-01-27 13:08:24 IST          11.963588         79.440631   \n",
       "2     3  2011-10-08 11:53:44 IST          11.983094         79.418524   \n",
       "3     4  2012-12-01 21:12:12 IST          12.014724         79.383495   \n",
       "4     5  2012-12-01 21:12:12 IST          11.936798         79.369585   \n",
       "\n",
       "               Village Name  Dropoff Latitude\\t  Dropoff Longitude  \\\n",
       "0  Maniyampattu, Tamil Nadu           11.954979          79.419145   \n",
       "1       Aariyur, Tamil Nadu           11.954979          79.419145   \n",
       "2         Agaram Chithamoor           11.954979          79.419145   \n",
       "3        Ariyalur Thirukkai           11.954979          79.419145   \n",
       "4                  Kalpattu           11.954979          79.419145   \n",
       "\n",
       "  Market Name  Kilometer   Weight Vehicle Type  \n",
       "0       Kanai         55  2500 kg    Tata 407   \n",
       "1       Kanai          7   500 kg     Tata ape  \n",
       "2       Kanai          5   438 kg     Tata ape  \n",
       "3       Kanai         11  1500 kg    Tata 407   \n",
       "4       Kanai          8  2500 kg    Tata 407   "
      ]
     },
     "execution_count": 28,
     "metadata": {},
     "output_type": "execute_result"
    }
   ],
   "source": [
    "test_data = pd.read_excel(\"D:\\STUDIES\\DATASETS\\Agriculture Consignment Vehicle Fare Prediction\\Agriculture Consignment dataset(ACP) Test.xlsx\")\n",
    "test_data.head()"
   ]
  },
  {
   "cell_type": "code",
   "execution_count": 29,
   "metadata": {},
   "outputs": [
    {
     "name": "stdout",
     "output_type": "stream",
     "text": [
      "<class 'pandas.core.frame.DataFrame'>\n",
      "RangeIndex: 200 entries, 0 to 199\n",
      "Data columns (total 11 columns):\n",
      " #   Column             Non-Null Count  Dtype  \n",
      "---  ------             --------------  -----  \n",
      " 0   S.No               200 non-null    int64  \n",
      " 1   Pickup Datetime    200 non-null    object \n",
      " 2   Pickup Latitude\t   200 non-null    float64\n",
      " 3   Pickup Longitude   200 non-null    float64\n",
      " 4   Village Name       200 non-null    object \n",
      " 5   Dropoff Latitude\t  200 non-null    float64\n",
      " 6   Dropoff Longitude  200 non-null    float64\n",
      " 7   Market Name        200 non-null    object \n",
      " 8   Kilometer          200 non-null    int64  \n",
      " 9   Weight             200 non-null    object \n",
      " 10  Vehicle Type       200 non-null    object \n",
      "dtypes: float64(4), int64(2), object(5)\n",
      "memory usage: 17.3+ KB\n",
      "0     2015-01-27 09:08:24\n",
      "1     2015-01-27 09:08:24\n",
      "2     2011-10-08 07:53:44\n",
      "3     2012-12-01 17:12:12\n",
      "4     2012-12-01 17:12:12\n",
      "              ...        \n",
      "195   2011-05-21 09:16:20\n",
      "196   2011-11-25 12:36:24\n",
      "197   2011-11-25 12:36:24\n",
      "198   2015-01-31 16:54:04\n",
      "199   2010-11-01 19:31:28\n",
      "Name: Pickup Datetime, Length: 200, dtype: datetime64[ns]\n",
      "<class 'pandas.core.frame.DataFrame'>\n",
      "RangeIndex: 200 entries, 0 to 199\n",
      "Data columns (total 11 columns):\n",
      " #   Column             Non-Null Count  Dtype         \n",
      "---  ------             --------------  -----         \n",
      " 0   S.No               200 non-null    int64         \n",
      " 1   Pickup Datetime    200 non-null    datetime64[ns]\n",
      " 2   Pickup Latitude\t   200 non-null    float64       \n",
      " 3   Pickup Longitude   200 non-null    float64       \n",
      " 4   Village Name       200 non-null    object        \n",
      " 5   Dropoff Latitude\t  200 non-null    float64       \n",
      " 6   Dropoff Longitude  200 non-null    float64       \n",
      " 7   Market Name        200 non-null    object        \n",
      " 8   Kilometer          200 non-null    int64         \n",
      " 9   Weight             200 non-null    object        \n",
      " 10  Vehicle Type       200 non-null    object        \n",
      "dtypes: datetime64[ns](1), float64(4), int64(2), object(4)\n",
      "memory usage: 17.3+ KB\n"
     ]
    },
    {
     "data": {
      "text/html": [
       "<div>\n",
       "<style scoped>\n",
       "    .dataframe tbody tr th:only-of-type {\n",
       "        vertical-align: middle;\n",
       "    }\n",
       "\n",
       "    .dataframe tbody tr th {\n",
       "        vertical-align: top;\n",
       "    }\n",
       "\n",
       "    .dataframe thead th {\n",
       "        text-align: right;\n",
       "    }\n",
       "</style>\n",
       "<table border=\"1\" class=\"dataframe\">\n",
       "  <thead>\n",
       "    <tr style=\"text-align: right;\">\n",
       "      <th></th>\n",
       "      <th>Village Name</th>\n",
       "      <th>Market Name</th>\n",
       "      <th>Kilometer</th>\n",
       "      <th>Weight</th>\n",
       "      <th>Vehicle Type</th>\n",
       "      <th>Year</th>\n",
       "      <th>Month</th>\n",
       "      <th>Day</th>\n",
       "      <th>Hours</th>\n",
       "      <th>Minutes</th>\n",
       "      <th>mornight</th>\n",
       "      <th>Total distance</th>\n",
       "    </tr>\n",
       "  </thead>\n",
       "  <tbody>\n",
       "    <tr>\n",
       "      <th>0</th>\n",
       "      <td>91</td>\n",
       "      <td>1</td>\n",
       "      <td>55</td>\n",
       "      <td>41</td>\n",
       "      <td>2</td>\n",
       "      <td>2015</td>\n",
       "      <td>1</td>\n",
       "      <td>27</td>\n",
       "      <td>9</td>\n",
       "      <td>8</td>\n",
       "      <td>0</td>\n",
       "      <td>32.012835</td>\n",
       "    </tr>\n",
       "    <tr>\n",
       "      <th>1</th>\n",
       "      <td>0</td>\n",
       "      <td>1</td>\n",
       "      <td>7</td>\n",
       "      <td>86</td>\n",
       "      <td>4</td>\n",
       "      <td>2015</td>\n",
       "      <td>1</td>\n",
       "      <td>27</td>\n",
       "      <td>9</td>\n",
       "      <td>8</td>\n",
       "      <td>0</td>\n",
       "      <td>2.525760</td>\n",
       "    </tr>\n",
       "    <tr>\n",
       "      <th>2</th>\n",
       "      <td>3</td>\n",
       "      <td>1</td>\n",
       "      <td>5</td>\n",
       "      <td>80</td>\n",
       "      <td>4</td>\n",
       "      <td>2011</td>\n",
       "      <td>10</td>\n",
       "      <td>8</td>\n",
       "      <td>7</td>\n",
       "      <td>53</td>\n",
       "      <td>0</td>\n",
       "      <td>3.126972</td>\n",
       "    </tr>\n",
       "    <tr>\n",
       "      <th>3</th>\n",
       "      <td>10</td>\n",
       "      <td>1</td>\n",
       "      <td>11</td>\n",
       "      <td>14</td>\n",
       "      <td>2</td>\n",
       "      <td>2012</td>\n",
       "      <td>12</td>\n",
       "      <td>1</td>\n",
       "      <td>17</td>\n",
       "      <td>12</td>\n",
       "      <td>1</td>\n",
       "      <td>7.692249</td>\n",
       "    </tr>\n",
       "    <tr>\n",
       "      <th>4</th>\n",
       "      <td>40</td>\n",
       "      <td>1</td>\n",
       "      <td>8</td>\n",
       "      <td>41</td>\n",
       "      <td>2</td>\n",
       "      <td>2012</td>\n",
       "      <td>12</td>\n",
       "      <td>1</td>\n",
       "      <td>17</td>\n",
       "      <td>12</td>\n",
       "      <td>1</td>\n",
       "      <td>5.758027</td>\n",
       "    </tr>\n",
       "  </tbody>\n",
       "</table>\n",
       "</div>"
      ],
      "text/plain": [
       "   Village Name  Market Name  Kilometer  Weight  Vehicle Type  Year  Month  \\\n",
       "0            91            1         55      41             2  2015      1   \n",
       "1             0            1          7      86             4  2015      1   \n",
       "2             3            1          5      80             4  2011     10   \n",
       "3            10            1         11      14             2  2012     12   \n",
       "4            40            1          8      41             2  2012     12   \n",
       "\n",
       "   Day  Hours  Minutes  mornight  Total distance  \n",
       "0   27      9        8         0       32.012835  \n",
       "1   27      9        8         0        2.525760  \n",
       "2    8      7       53         0        3.126972  \n",
       "3    1     17       12         1        7.692249  \n",
       "4    1     17       12         1        5.758027  "
      ]
     },
     "execution_count": 29,
     "metadata": {},
     "output_type": "execute_result"
    }
   ],
   "source": [
    "#preprocessing\n",
    "\n",
    "test_data.info()\n",
    "\n",
    "test_data.isnull().sum()\n",
    "\n",
    "import datetime\n",
    "\n",
    "pd.to_datetime(test_data['Pickup Datetime'])\n",
    "\n",
    "test_data['Pickup Datetime'] = pd.to_datetime(test_data['Pickup Datetime'])-datetime.timedelta(hours=4)\n",
    "print(test_data['Pickup Datetime'])\n",
    "\n",
    "test_data.info()\n",
    "\n",
    "test_data.head()\n",
    "\n",
    "test_data['Pickup Datetime'].dt.month\n",
    "\n",
    "test_data['Year'] = test_data['Pickup Datetime'].dt.year\n",
    "test_data['Month'] = test_data['Pickup Datetime'].dt.month\n",
    "test_data['Day'] = test_data['Pickup Datetime'].dt.day\n",
    "test_data['Hours'] = test_data['Pickup Datetime'].dt.hour\n",
    "test_data['Minutes'] = test_data['Pickup Datetime'].dt.minute\n",
    "\n",
    "test_data.head()\n",
    "\n",
    "test_data['mornight']=np.where(test_data['Hours']<12,0,1)\n",
    "\n",
    "test_data.head()\n",
    "\n",
    "test_data.drop('Pickup Datetime',axis=1,inplace=True)\n",
    "\n",
    "test_data.head()\n",
    "\n",
    "from sklearn.metrics.pairwise import haversine_distances\n",
    "from math import radians\n",
    "maniyampattu =[12.226787,79.516198]\n",
    "kanai = [11.954979,79.419145]\n",
    "\n",
    "maniyampattu_in_radians = [radians(_) for _ in maniyampattu]\n",
    "kanai_in_radians = [radians(_) for _ in kanai]\n",
    "\n",
    "result = haversine_distances([maniyampattu_in_radians,kanai_in_radians])\n",
    "\n",
    "result*6371\n",
    "\n",
    "np.radians(test_data['Dropoff Latitude\\t']-test_data['Pickup Latitude\\t'])\n",
    "\n",
    "def haversine(test_data):\n",
    "    \n",
    "    lat1 = np.radians(test_data[\"Pickup Latitude\\t\"])\n",
    "    lat2 = np.radians(test_data[\"Dropoff Latitude\\t\"])\n",
    "\n",
    "    dlat = np.radians(test_data['Dropoff Latitude\\t']-test_data['Pickup Latitude\\t'])\n",
    "    dlong = np.radians(test_data['Dropoff Longitude']-test_data['Pickup Longitude'])\n",
    "    a = np.sin(dlat/2)**2 + np.cos(lat1) * np.cos(lat2) * np.sin(dlong/2)**2\n",
    "\n",
    "    c = 2 * np.arctan2(np.sqrt(a), np.sqrt(1-a))\n",
    "    r = 6371\n",
    "    return c * r\n",
    "\n",
    "test_data['Total distance'] = haversine(test_data)\n",
    "\n",
    "test_data.head()\n",
    "\n",
    "# Import label encoder \n",
    "from sklearn import preprocessing \n",
    "\n",
    "# label_encoder object knows \n",
    "# how to understand word labels. \n",
    "label_encoder = preprocessing.LabelEncoder() \n",
    "\n",
    "# Encode labels in column 'species'. \n",
    "test_data['Vehicle Type']= label_encoder.fit_transform(test_data['Vehicle Type']) \n",
    "test_data['Village Name']= label_encoder.fit_transform(test_data['Village Name'])\n",
    "test_data['Market Name']= label_encoder.fit_transform(test_data['Market Name'])\n",
    "test_data['Weight']= label_encoder.fit_transform(test_data['Weight'])\n",
    "\n",
    "test_data['Vehicle Type'].unique() \n",
    "test_data['Village Name'].unique()\n",
    "test_data['Market Name'].unique()\n",
    "test_data['Weight'].unique() \n",
    "\n",
    "test_data.head()\n",
    "\n",
    "test_data.drop(['S.No','Pickup Latitude\\t','Pickup Longitude','Dropoff Latitude\\t','Dropoff Longitude'],axis=1,inplace=True)\n",
    "\n",
    "test_data.head()"
   ]
  },
  {
   "cell_type": "markdown",
   "metadata": {},
   "source": [
    "Feature Selection\n",
    "\n",
    "Finding out the best feature which will contribute and have good relation with target variable. Following are some of the feature selection methods,\n",
    "\n",
    "    1.heatmap\n",
    "    2.feature_importance_\n",
    "    3.SelectKBest"
   ]
  },
  {
   "cell_type": "code",
   "execution_count": 30,
   "metadata": {},
   "outputs": [
    {
     "data": {
      "text/plain": [
       "(200, 13)"
      ]
     },
     "execution_count": 30,
     "metadata": {},
     "output_type": "execute_result"
    }
   ],
   "source": [
    "train_data.shape"
   ]
  },
  {
   "cell_type": "code",
   "execution_count": 31,
   "metadata": {},
   "outputs": [
    {
     "data": {
      "text/plain": [
       "Index(['Village Name', 'Market Name', 'Kilometer', 'Weight', 'Vehicle Type',\n",
       "       'Fare Amount', 'Year', 'Month', 'Day', 'Hours', 'Minutes', 'mornight',\n",
       "       'Total distance'],\n",
       "      dtype='object')"
      ]
     },
     "execution_count": 31,
     "metadata": {},
     "output_type": "execute_result"
    }
   ],
   "source": [
    "train_data.columns"
   ]
  },
  {
   "cell_type": "code",
   "execution_count": 32,
   "metadata": {},
   "outputs": [
    {
     "data": {
      "text/html": [
       "<div>\n",
       "<style scoped>\n",
       "    .dataframe tbody tr th:only-of-type {\n",
       "        vertical-align: middle;\n",
       "    }\n",
       "\n",
       "    .dataframe tbody tr th {\n",
       "        vertical-align: top;\n",
       "    }\n",
       "\n",
       "    .dataframe thead th {\n",
       "        text-align: right;\n",
       "    }\n",
       "</style>\n",
       "<table border=\"1\" class=\"dataframe\">\n",
       "  <thead>\n",
       "    <tr style=\"text-align: right;\">\n",
       "      <th></th>\n",
       "      <th>Village Name</th>\n",
       "      <th>Market Name</th>\n",
       "      <th>Kilometer</th>\n",
       "      <th>Weight</th>\n",
       "      <th>Vehicle Type</th>\n",
       "      <th>Year</th>\n",
       "      <th>Month</th>\n",
       "      <th>Day</th>\n",
       "      <th>Hours</th>\n",
       "      <th>Minutes</th>\n",
       "      <th>mornight</th>\n",
       "      <th>Total distance</th>\n",
       "    </tr>\n",
       "  </thead>\n",
       "  <tbody>\n",
       "    <tr>\n",
       "      <th>0</th>\n",
       "      <td>91</td>\n",
       "      <td>1</td>\n",
       "      <td>55</td>\n",
       "      <td>41</td>\n",
       "      <td>2</td>\n",
       "      <td>2015</td>\n",
       "      <td>1</td>\n",
       "      <td>27</td>\n",
       "      <td>9</td>\n",
       "      <td>8</td>\n",
       "      <td>0</td>\n",
       "      <td>32.012835</td>\n",
       "    </tr>\n",
       "    <tr>\n",
       "      <th>1</th>\n",
       "      <td>0</td>\n",
       "      <td>1</td>\n",
       "      <td>7</td>\n",
       "      <td>86</td>\n",
       "      <td>4</td>\n",
       "      <td>2015</td>\n",
       "      <td>1</td>\n",
       "      <td>27</td>\n",
       "      <td>9</td>\n",
       "      <td>8</td>\n",
       "      <td>0</td>\n",
       "      <td>2.525760</td>\n",
       "    </tr>\n",
       "    <tr>\n",
       "      <th>2</th>\n",
       "      <td>3</td>\n",
       "      <td>1</td>\n",
       "      <td>5</td>\n",
       "      <td>80</td>\n",
       "      <td>4</td>\n",
       "      <td>2011</td>\n",
       "      <td>10</td>\n",
       "      <td>8</td>\n",
       "      <td>7</td>\n",
       "      <td>53</td>\n",
       "      <td>0</td>\n",
       "      <td>3.126972</td>\n",
       "    </tr>\n",
       "    <tr>\n",
       "      <th>3</th>\n",
       "      <td>10</td>\n",
       "      <td>1</td>\n",
       "      <td>11</td>\n",
       "      <td>14</td>\n",
       "      <td>2</td>\n",
       "      <td>2012</td>\n",
       "      <td>12</td>\n",
       "      <td>1</td>\n",
       "      <td>17</td>\n",
       "      <td>12</td>\n",
       "      <td>1</td>\n",
       "      <td>7.692249</td>\n",
       "    </tr>\n",
       "    <tr>\n",
       "      <th>4</th>\n",
       "      <td>40</td>\n",
       "      <td>1</td>\n",
       "      <td>8</td>\n",
       "      <td>41</td>\n",
       "      <td>2</td>\n",
       "      <td>2012</td>\n",
       "      <td>12</td>\n",
       "      <td>1</td>\n",
       "      <td>17</td>\n",
       "      <td>12</td>\n",
       "      <td>1</td>\n",
       "      <td>5.758027</td>\n",
       "    </tr>\n",
       "  </tbody>\n",
       "</table>\n",
       "</div>"
      ],
      "text/plain": [
       "   Village Name  Market Name  Kilometer  Weight  Vehicle Type  Year  Month  \\\n",
       "0            91            1         55      41             2  2015      1   \n",
       "1             0            1          7      86             4  2015      1   \n",
       "2             3            1          5      80             4  2011     10   \n",
       "3            10            1         11      14             2  2012     12   \n",
       "4            40            1          8      41             2  2012     12   \n",
       "\n",
       "   Day  Hours  Minutes  mornight  Total distance  \n",
       "0   27      9        8         0       32.012835  \n",
       "1   27      9        8         0        2.525760  \n",
       "2    8      7       53         0        3.126972  \n",
       "3    1     17       12         1        7.692249  \n",
       "4    1     17       12         1        5.758027  "
      ]
     },
     "execution_count": 32,
     "metadata": {},
     "output_type": "execute_result"
    }
   ],
   "source": [
    "X = train_data.loc[:, ['Village Name', 'Market Name', 'Kilometer', 'Weight', 'Vehicle Type','Year', 'Month', 'Day', 'Hours', 'Minutes', 'mornight',\n",
    "       'Total distance']]\n",
    "X.head()"
   ]
  },
  {
   "cell_type": "code",
   "execution_count": 33,
   "metadata": {},
   "outputs": [
    {
     "data": {
      "text/plain": [
       "0    3575\n",
       "1     266\n",
       "2     190\n",
       "3     715\n",
       "4     520\n",
       "Name: Fare Amount, dtype: int64"
      ]
     },
     "execution_count": 33,
     "metadata": {},
     "output_type": "execute_result"
    }
   ],
   "source": [
    "y = train_data.iloc[:, 5]\n",
    "y.head()"
   ]
  },
  {
   "cell_type": "code",
   "execution_count": 34,
   "metadata": {},
   "outputs": [
    {
     "data": {
      "image/png": "[encoded data removed]",
      "text/plain": [
       "<Figure size 1200x1200 with 2 Axes>"
      ]
     },
     "metadata": {},
     "output_type": "display_data"
    }
   ],
   "source": [
    "# Finds correlation between Independent and dependent attributes\n",
    "\n",
    "plt.figure(figsize = (12,12))\n",
    "sns.heatmap(train_data.corr(), annot = True, cmap = \"RdYlGn\")\n",
    "\n",
    "plt.show()"
   ]
  },
  {
   "cell_type": "code",
   "execution_count": 35,
   "metadata": {},
   "outputs": [
    {
     "data": {
      "text/plain": [
       "ExtraTreesRegressor()"
      ]
     },
     "execution_count": 35,
     "metadata": {},
     "output_type": "execute_result"
    }
   ],
   "source": [
    "# Important feature using ExtraTreesRegressor\n",
    "\n",
    "from sklearn.ensemble import ExtraTreesRegressor\n",
    "selection = ExtraTreesRegressor()\n",
    "selection.fit(X, y)"
   ]
  },
  {
   "cell_type": "code",
   "execution_count": 36,
   "metadata": {},
   "outputs": [
    {
     "name": "stdout",
     "output_type": "stream",
     "text": [
      "[0.00305215 0.03776271 0.73850681 0.00579753 0.05430544 0.00389163\n",
      " 0.00184162 0.00489357 0.00139385 0.01804992 0.00077519 0.12972958]\n"
     ]
    }
   ],
   "source": [
    "print(selection.feature_importances_)"
   ]
  },
  {
   "cell_type": "code",
   "execution_count": 37,
   "metadata": {},
   "outputs": [
    {
     "data": {
      "image/png": "[encoded data removed]",
      "text/plain": [
       "<Figure size 1200x800 with 1 Axes>"
      ]
     },
     "metadata": {},
     "output_type": "display_data"
    }
   ],
   "source": [
    "#plot graph of feature importances for better visualization\n",
    "\n",
    "plt.figure(figsize = (12,8))\n",
    "feat_importances = pd.Series(selection.feature_importances_, index=X.columns)\n",
    "feat_importances.nlargest(20).plot(kind='barh')\n",
    "plt.show()"
   ]
  },
  {
   "cell_type": "markdown",
   "metadata": {},
   "source": [
    "Fitting model using Random Forest\n",
    "\n",
    "    1.Split dataset into train and test set in order to prediction w.r.t X_test\n",
    "    2.If needed do scaling of data\n",
    "        Scaling is not done in Random forest\n",
    "    3.Import model\n",
    "    4.Fit the data\n",
    "    5.Predict w.r.t X_test\n",
    "    6.In regression check RSME Score\n",
    "    7.Plot graph"
   ]
  },
  {
   "cell_type": "code",
   "execution_count": 38,
   "metadata": {},
   "outputs": [],
   "source": [
    "from sklearn.model_selection import train_test_split\n",
    "X_train, X_test, y_train, y_test = train_test_split(X, y, test_size = 0.2, random_state = 42)"
   ]
  },
  {
   "cell_type": "code",
   "execution_count": 39,
   "metadata": {},
   "outputs": [
    {
     "data": {
      "text/plain": [
       "RandomForestRegressor()"
      ]
     },
     "execution_count": 39,
     "metadata": {},
     "output_type": "execute_result"
    }
   ],
   "source": [
    "from sklearn.ensemble import RandomForestRegressor\n",
    "reg_rf = RandomForestRegressor()\n",
    "reg_rf.fit(X_train, y_train)"
   ]
  },
  {
   "cell_type": "code",
   "execution_count": 40,
   "metadata": {},
   "outputs": [],
   "source": [
    "y_pred = reg_rf.predict(X_test)"
   ]
  },
  {
   "cell_type": "code",
   "execution_count": 41,
   "metadata": {},
   "outputs": [
    {
     "data": {
      "text/plain": [
       "0.9886281851572574"
      ]
     },
     "execution_count": 41,
     "metadata": {},
     "output_type": "execute_result"
    }
   ],
   "source": [
    "reg_rf.score(X_train, y_train)"
   ]
  },
  {
   "cell_type": "code",
   "execution_count": 42,
   "metadata": {},
   "outputs": [
    {
     "data": {
      "text/plain": [
       "0.9697445057809763"
      ]
     },
     "execution_count": 42,
     "metadata": {},
     "output_type": "execute_result"
    }
   ],
   "source": [
    "reg_rf.score(X_test, y_test)"
   ]
  },
  {
   "cell_type": "code",
   "execution_count": 43,
   "metadata": {},
   "outputs": [
    {
     "data": {
      "image/png": "[encoded data removed]",
      "text/plain": [
       "<Figure size 640x480 with 1 Axes>"
      ]
     },
     "metadata": {},
     "output_type": "display_data"
    }
   ],
   "source": [
    "sns.distplot(y_test-y_pred)\n",
    "plt.show()"
   ]
  },
  {
   "cell_type": "code",
   "execution_count": 44,
   "metadata": {},
   "outputs": [
    {
     "data": {
      "image/png": "[encoded data removed]",
      "text/plain": [
       "<Figure size 640x480 with 1 Axes>"
      ]
     },
     "metadata": {},
     "output_type": "display_data"
    }
   ],
   "source": [
    "plt.scatter(y_test, y_pred, alpha = 0.5)\n",
    "plt.xlabel(\"y_test\")\n",
    "plt.ylabel(\"y_pred\")\n",
    "plt.show()"
   ]
  },
  {
   "cell_type": "code",
   "execution_count": 45,
   "metadata": {},
   "outputs": [],
   "source": [
    "from sklearn import metrics"
   ]
  },
  {
   "cell_type": "code",
   "execution_count": 46,
   "metadata": {},
   "outputs": [
    {
     "name": "stdout",
     "output_type": "stream",
     "text": [
      "MAE: 30.06325\n",
      "MSE: 4653.279807500001\n",
      "RMSE: 68.21495296120932\n"
     ]
    }
   ],
   "source": [
    "print('MAE:', metrics.mean_absolute_error(y_test, y_pred))\n",
    "print('MSE:', metrics.mean_squared_error(y_test, y_pred))\n",
    "print('RMSE:', np.sqrt(metrics.mean_squared_error(y_test, y_pred)))"
   ]
  },
  {
   "cell_type": "code",
   "execution_count": 47,
   "metadata": {},
   "outputs": [
    {
     "data": {
      "text/plain": [
       "0.38044602365787084"
      ]
     },
     "execution_count": 47,
     "metadata": {},
     "output_type": "execute_result"
    }
   ],
   "source": [
    "# RMSE/(max(DV)-min(DV))\n",
    "\n",
    "2090.5509/(max(y)-min(y))"
   ]
  },
  {
   "cell_type": "code",
   "execution_count": 48,
   "metadata": {},
   "outputs": [
    {
     "data": {
      "text/plain": [
       "0.9697445057809763"
      ]
     },
     "execution_count": 48,
     "metadata": {},
     "output_type": "execute_result"
    }
   ],
   "source": [
    "metrics.r2_score(y_test, y_pred)"
   ]
  },
  {
   "cell_type": "markdown",
   "metadata": {},
   "source": [
    "Hyperparameter Tuning\n",
    "    \n",
    "    1.Choose following method for hyperparameter tuning\n",
    "        1.1 RandomizedSearchCV --> Fast\n",
    "        1.2 GridSearchCV\n",
    "    2.Assign hyperparameters in form of dictionery\n",
    "    3.Fit the model\n",
    "    4.Check best paramters and best score"
   ]
  },
  {
   "cell_type": "code",
   "execution_count": 49,
   "metadata": {},
   "outputs": [],
   "source": [
    "from sklearn.model_selection import RandomizedSearchCV"
   ]
  },
  {
   "cell_type": "code",
   "execution_count": 50,
   "metadata": {},
   "outputs": [],
   "source": [
    "#Randomized Search CV\n",
    "\n",
    "# Number of trees in random forest\n",
    "n_estimators = [int(x) for x in np.linspace(start = 100, stop = 1200, num = 12)]\n",
    "# Number of features to consider at every split\n",
    "max_features = ['auto', 'sqrt']\n",
    "# Maximum number of levels in tree\n",
    "max_depth = [int(x) for x in np.linspace(5, 30, num = 6)]\n",
    "# Minimum number of samples required to split a node\n",
    "min_samples_split = [2, 5, 10, 15, 100]\n",
    "# Minimum number of samples required at each leaf node\n",
    "min_samples_leaf = [1, 2, 5, 10]"
   ]
  },
  {
   "cell_type": "code",
   "execution_count": 51,
   "metadata": {},
   "outputs": [],
   "source": [
    "# Create the random grid\n",
    "\n",
    "random_grid = {'n_estimators': n_estimators,\n",
    "               'max_features': max_features,\n",
    "               'max_depth': max_depth,\n",
    "               'min_samples_split': min_samples_split,\n",
    "               'min_samples_leaf': min_samples_leaf}"
   ]
  },
  {
   "cell_type": "code",
   "execution_count": 52,
   "metadata": {},
   "outputs": [],
   "source": [
    "# Random search of parameters, using 5 fold cross validation, \n",
    "# search across 100 different combinations\n",
    "rf_random = RandomizedSearchCV(estimator = reg_rf, param_distributions = random_grid,scoring='neg_mean_squared_error', n_iter = 10, cv = 5, verbose=2, random_state=42, n_jobs =1)"
   ]
  },
  {
   "cell_type": "code",
   "execution_count": 53,
   "metadata": {},
   "outputs": [
    {
     "name": "stdout",
     "output_type": "stream",
     "text": [
      "Fitting 5 folds for each of 10 candidates, totalling 50 fits\n",
      "[CV] END max_depth=10, max_features=sqrt, min_samples_leaf=5, min_samples_split=5, n_estimators=900; total time=   7.7s\n",
      "[CV] END max_depth=10, max_features=sqrt, min_samples_leaf=5, min_samples_split=5, n_estimators=900; total time=  17.3s\n",
      "[CV] END max_depth=10, max_features=sqrt, min_samples_leaf=5, min_samples_split=5, n_estimators=900; total time=   6.1s\n",
      "[CV] END max_depth=10, max_features=sqrt, min_samples_leaf=5, min_samples_split=5, n_estimators=900; total time=   6.5s\n",
      "[CV] END max_depth=10, max_features=sqrt, min_samples_leaf=5, min_samples_split=5, n_estimators=900; total time=   6.2s\n",
      "[CV] END max_depth=15, max_features=sqrt, min_samples_leaf=2, min_samples_split=10, n_estimators=1100; total time=   7.0s\n",
      "[CV] END max_depth=15, max_features=sqrt, min_samples_leaf=2, min_samples_split=10, n_estimators=1100; total time=   7.0s\n",
      "[CV] END max_depth=15, max_features=sqrt, min_samples_leaf=2, min_samples_split=10, n_estimators=1100; total time=   7.3s\n",
      "[CV] END max_depth=15, max_features=sqrt, min_samples_leaf=2, min_samples_split=10, n_estimators=1100; total time=   6.8s\n",
      "[CV] END max_depth=15, max_features=sqrt, min_samples_leaf=2, min_samples_split=10, n_estimators=1100; total time=   9.7s\n",
      "[CV] END max_depth=15, max_features=auto, min_samples_leaf=5, min_samples_split=100, n_estimators=300; total time=   1.9s\n",
      "[CV] END max_depth=15, max_features=auto, min_samples_leaf=5, min_samples_split=100, n_estimators=300; total time=   3.0s\n",
      "[CV] END max_depth=15, max_features=auto, min_samples_leaf=5, min_samples_split=100, n_estimators=300; total time=   2.2s\n",
      "[CV] END max_depth=15, max_features=auto, min_samples_leaf=5, min_samples_split=100, n_estimators=300; total time=   1.9s\n",
      "[CV] END max_depth=15, max_features=auto, min_samples_leaf=5, min_samples_split=100, n_estimators=300; total time=   1.9s\n",
      "[CV] END max_depth=15, max_features=auto, min_samples_leaf=5, min_samples_split=5, n_estimators=400; total time=   2.9s\n",
      "[CV] END max_depth=15, max_features=auto, min_samples_leaf=5, min_samples_split=5, n_estimators=400; total time=   4.5s\n",
      "[CV] END max_depth=15, max_features=auto, min_samples_leaf=5, min_samples_split=5, n_estimators=400; total time=   3.3s\n",
      "[CV] END max_depth=15, max_features=auto, min_samples_leaf=5, min_samples_split=5, n_estimators=400; total time=   3.1s\n",
      "[CV] END max_depth=15, max_features=auto, min_samples_leaf=5, min_samples_split=5, n_estimators=400; total time=   2.7s\n",
      "[CV] END max_depth=20, max_features=auto, min_samples_leaf=10, min_samples_split=5, n_estimators=700; total time=   4.9s\n",
      "[CV] END max_depth=20, max_features=auto, min_samples_leaf=10, min_samples_split=5, n_estimators=700; total time=   4.1s\n",
      "[CV] END max_depth=20, max_features=auto, min_samples_leaf=10, min_samples_split=5, n_estimators=700; total time=   3.7s\n",
      "[CV] END max_depth=20, max_features=auto, min_samples_leaf=10, min_samples_split=5, n_estimators=700; total time=   4.4s\n",
      "[CV] END max_depth=20, max_features=auto, min_samples_leaf=10, min_samples_split=5, n_estimators=700; total time=   5.7s\n",
      "[CV] END max_depth=25, max_features=sqrt, min_samples_leaf=1, min_samples_split=2, n_estimators=1000; total time=   9.0s\n",
      "[CV] END max_depth=25, max_features=sqrt, min_samples_leaf=1, min_samples_split=2, n_estimators=1000; total time=   6.8s\n",
      "[CV] END max_depth=25, max_features=sqrt, min_samples_leaf=1, min_samples_split=2, n_estimators=1000; total time=   8.0s\n",
      "[CV] END max_depth=25, max_features=sqrt, min_samples_leaf=1, min_samples_split=2, n_estimators=1000; total time=   7.4s\n",
      "[CV] END max_depth=25, max_features=sqrt, min_samples_leaf=1, min_samples_split=2, n_estimators=1000; total time=   7.2s\n",
      "[CV] END max_depth=5, max_features=sqrt, min_samples_leaf=10, min_samples_split=15, n_estimators=1100; total time=   6.6s\n",
      "[CV] END max_depth=5, max_features=sqrt, min_samples_leaf=10, min_samples_split=15, n_estimators=1100; total time=   7.0s\n",
      "[CV] END max_depth=5, max_features=sqrt, min_samples_leaf=10, min_samples_split=15, n_estimators=1100; total time=   5.8s\n",
      "[CV] END max_depth=5, max_features=sqrt, min_samples_leaf=10, min_samples_split=15, n_estimators=1100; total time=   5.6s\n",
      "[CV] END max_depth=5, max_features=sqrt, min_samples_leaf=10, min_samples_split=15, n_estimators=1100; total time=   7.0s\n",
      "[CV] END max_depth=15, max_features=sqrt, min_samples_leaf=1, min_samples_split=15, n_estimators=300; total time=   1.7s\n",
      "[CV] END max_depth=15, max_features=sqrt, min_samples_leaf=1, min_samples_split=15, n_estimators=300; total time=   2.0s\n",
      "[CV] END max_depth=15, max_features=sqrt, min_samples_leaf=1, min_samples_split=15, n_estimators=300; total time=   1.6s\n",
      "[CV] END max_depth=15, max_features=sqrt, min_samples_leaf=1, min_samples_split=15, n_estimators=300; total time=   2.3s\n",
      "[CV] END max_depth=15, max_features=sqrt, min_samples_leaf=1, min_samples_split=15, n_estimators=300; total time=   1.9s\n",
      "[CV] END max_depth=5, max_features=sqrt, min_samples_leaf=2, min_samples_split=10, n_estimators=700; total time=   4.4s\n",
      "[CV] END max_depth=5, max_features=sqrt, min_samples_leaf=2, min_samples_split=10, n_estimators=700; total time=   3.8s\n",
      "[CV] END max_depth=5, max_features=sqrt, min_samples_leaf=2, min_samples_split=10, n_estimators=700; total time=   4.3s\n",
      "[CV] END max_depth=5, max_features=sqrt, min_samples_leaf=2, min_samples_split=10, n_estimators=700; total time=   4.2s\n",
      "[CV] END max_depth=5, max_features=sqrt, min_samples_leaf=2, min_samples_split=10, n_estimators=700; total time=   4.5s\n",
      "[CV] END max_depth=20, max_features=auto, min_samples_leaf=1, min_samples_split=15, n_estimators=700; total time=   4.5s\n",
      "[CV] END max_depth=20, max_features=auto, min_samples_leaf=1, min_samples_split=15, n_estimators=700; total time=   5.1s\n",
      "[CV] END max_depth=20, max_features=auto, min_samples_leaf=1, min_samples_split=15, n_estimators=700; total time=   4.8s\n",
      "[CV] END max_depth=20, max_features=auto, min_samples_leaf=1, min_samples_split=15, n_estimators=700; total time=   4.2s\n",
      "[CV] END max_depth=20, max_features=auto, min_samples_leaf=1, min_samples_split=15, n_estimators=700; total time=   3.6s\n"
     ]
    },
    {
     "data": {
      "text/plain": [
       "RandomizedSearchCV(cv=5, estimator=RandomForestRegressor(), n_jobs=1,\n",
       "                   param_distributions={'max_depth': [5, 10, 15, 20, 25, 30],\n",
       "                                        'max_features': ['auto', 'sqrt'],\n",
       "                                        'min_samples_leaf': [1, 2, 5, 10],\n",
       "                                        'min_samples_split': [2, 5, 10, 15,\n",
       "                                                              100],\n",
       "                                        'n_estimators': [100, 200, 300, 400,\n",
       "                                                         500, 600, 700, 800,\n",
       "                                                         900, 1000, 1100,\n",
       "                                                         1200]},\n",
       "                   random_state=42, scoring='neg_mean_squared_error',\n",
       "                   verbose=2)"
      ]
     },
     "execution_count": 53,
     "metadata": {},
     "output_type": "execute_result"
    }
   ],
   "source": [
    "rf_random.fit(X_train,y_train)"
   ]
  },
  {
   "cell_type": "code",
   "execution_count": 54,
   "metadata": {},
   "outputs": [
    {
     "data": {
      "text/plain": [
       "{'n_estimators': 700,\n",
       " 'min_samples_split': 15,\n",
       " 'min_samples_leaf': 1,\n",
       " 'max_features': 'auto',\n",
       " 'max_depth': 20}"
      ]
     },
     "execution_count": 54,
     "metadata": {},
     "output_type": "execute_result"
    }
   ],
   "source": [
    "rf_random.best_params_"
   ]
  },
  {
   "cell_type": "code",
   "execution_count": 55,
   "metadata": {},
   "outputs": [],
   "source": [
    "prediction = rf_random.predict(X_test)"
   ]
  },
  {
   "cell_type": "code",
   "execution_count": 56,
   "metadata": {},
   "outputs": [
    {
     "data": {
      "image/png": "[encoded data removed]",
      "text/plain": [
       "<Figure size 800x800 with 1 Axes>"
      ]
     },
     "metadata": {},
     "output_type": "display_data"
    }
   ],
   "source": [
    "plt.figure(figsize = (8,8))\n",
    "sns.distplot(y_test-prediction)\n",
    "plt.show()"
   ]
  },
  {
   "cell_type": "code",
   "execution_count": 57,
   "metadata": {},
   "outputs": [
    {
     "data": {
      "image/png": "[encoded data removed]",
      "text/plain": [
       "<Figure size 800x800 with 1 Axes>"
      ]
     },
     "metadata": {},
     "output_type": "display_data"
    }
   ],
   "source": [
    "plt.figure(figsize = (8,8))\n",
    "plt.scatter(y_test, prediction, alpha = 0.5)\n",
    "plt.xlabel(\"y_test\")\n",
    "plt.ylabel(\"y_pred\")\n",
    "plt.show()"
   ]
  },
  {
   "cell_type": "code",
   "execution_count": 58,
   "metadata": {},
   "outputs": [
    {
     "name": "stdout",
     "output_type": "stream",
     "text": [
      "MAE: 52.90904033209515\n",
      "MSE: 17358.23614106063\n",
      "RMSE: 131.75065897770924\n"
     ]
    }
   ],
   "source": [
    "print('MAE:', metrics.mean_absolute_error(y_test, prediction))\n",
    "print('MSE:', metrics.mean_squared_error(y_test, prediction))\n",
    "print('RMSE:', np.sqrt(metrics.mean_squared_error(y_test, prediction)))"
   ]
  },
  {
   "cell_type": "markdown",
   "metadata": {},
   "source": [
    "### Save the model to reuse it again"
   ]
  },
  {
   "cell_type": "code",
   "execution_count": 59,
   "metadata": {},
   "outputs": [],
   "source": [
    "import pickle\n",
    "# open a file, where you ant to store the data\n",
    "file = open('Act_rf.pkl', 'wb')\n",
    "\n",
    "# dump information to that file\n",
    "pickle.dump(reg_rf, file)"
   ]
  },
  {
   "cell_type": "code",
   "execution_count": 60,
   "metadata": {},
   "outputs": [],
   "source": [
    "model = open('Act_rf.pkl','rb')\n",
    "forest = pickle.load(model)"
   ]
  },
  {
   "cell_type": "code",
   "execution_count": 61,
   "metadata": {},
   "outputs": [],
   "source": [
    "y_prediction = forest.predict(X_test)"
   ]
  },
  {
   "cell_type": "code",
   "execution_count": 62,
   "metadata": {},
   "outputs": [
    {
     "data": {
      "text/plain": [
       "0.9697445057809763"
      ]
     },
     "execution_count": 62,
     "metadata": {},
     "output_type": "execute_result"
    }
   ],
   "source": [
    "metrics.r2_score(y_test, y_prediction)"
   ]
  },
  {
   "cell_type": "code",
   "execution_count": null,
   "metadata": {},
   "outputs": [],
   "source": []
  }
 ],
 "metadata": {
  "kernelspec": {
   "display_name": "Python 3",
   "language": "python",
   "name": "python3"
  },
  "language_info": {
   "codemirror_mode": {
    "name": "ipython",
    "version": 3
   },
   "file_extension": ".py",
   "mimetype": "text/x-python",
   "name": "python",
   "nbconvert_exporter": "python",
   "pygments_lexer": "ipython3",
   "version": "3.9.13"
  }
 },
 "nbformat": 4,
 "nbformat_minor": 2
}
